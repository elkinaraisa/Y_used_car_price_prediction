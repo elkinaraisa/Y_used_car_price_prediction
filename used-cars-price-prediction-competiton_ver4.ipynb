{
 "cells": [
  {
   "cell_type": "code",
   "execution_count": 53,
   "metadata": {
    "_cell_guid": "b1076dfc-b9ad-4769-8c92-a6c4dae69d19",
    "_uuid": "8f2839f25d086af736a60e9eeb907d3b93b6e0e5",
    "tags": []
   },
   "outputs": [],
   "source": [
    "# This Python 3 environment comes with many helpful analytics libraries installed\n",
    "# It is defined by the kaggle/python Docker image: https://github.com/kaggle/docker-python\n",
    "# For example, here's several helpful packages to load\n",
    "\n",
    "import numpy as np # linear algebra\n",
    "import pandas as pd # data processing, CSV file I/O (e.g. pd.read_csv)\n",
    "\n",
    "# Input data files are available in the read-only \"../input/\" directory\n",
    "# For example, running this (by clicking run or pressing Shift+Enter) will list all files under the input directory\n",
    "\n",
    "import os\n",
    "for dirname, _, filenames in os.walk('/kaggle/input'):\n",
    "    for filename in filenames:\n",
    "        print(os.path.join(dirname, filename))\n",
    "\n",
    "# You can write up to 20GB to the current directory (/kaggle/working/) that gets preserved as output when you create a version using \"Save & Run All\" \n",
    "# You can also write temporary files to /kaggle/temp/, but they won't be saved outside of the current session"
   ]
  },
  {
   "cell_type": "code",
   "execution_count": 54,
   "metadata": {
    "tags": []
   },
   "outputs": [],
   "source": [
    "#импортируем нужные библиотеки\n",
    "import pandas as pd\n",
    "import seaborn as sns\n",
    "import matplotlib.pyplot as plt\n",
    "import numpy as np\n",
    "import optuna\n",
    "import category_encoders as ce\n",
    "from numpy import absolute\n",
    "from sklearn.preprocessing import StandardScaler\n",
    "from sklearn.model_selection import cross_val_score, RepeatedKFold\n",
    "from xgboost import XGBRegressor\n",
    "from sklearn.metrics import make_scorer"
   ]
  },
  {
   "cell_type": "code",
   "execution_count": 55,
   "metadata": {
    "tags": []
   },
   "outputs": [],
   "source": [
    "try:\n",
    "    data_train = pd.read_csv('train.csv') #откроем датасеты\n",
    "    data_test = pd.read_csv('test.csv')\n",
    "except:\n",
    "    data_train = pd.read_csv('/kaggle/input/used-cars-price-prediction/train.csv') #откроем датасеты в kaggle\n",
    "    data_test = pd.read_csv('/kaggle/input/used-cars-price-prediction/test.csv')"
   ]
  },
  {
   "cell_type": "code",
   "execution_count": 56,
   "metadata": {
    "tags": []
   },
   "outputs": [
    {
     "name": "stdout",
     "output_type": "stream",
     "text": [
      "['make', 'model', 'trim', 'body', 'transmission', 'vin', 'state', 'color', 'interior', 'seller', 'saledate']\n"
     ]
    }
   ],
   "source": [
    "object_columns = data_train.dtypes[data_train.dtypes == \"object\"].index.values.tolist() #для дальнейшней работы сразу определим колонки с категориальными признаками\n",
    "print(object_columns)"
   ]
  },
  {
   "cell_type": "code",
   "execution_count": 57,
   "metadata": {
    "tags": []
   },
   "outputs": [
    {
     "data": {
      "text/plain": [
       "['year', 'sellingprice', 'condition', 'odometer']"
      ]
     },
     "execution_count": 57,
     "metadata": {},
     "output_type": "execute_result"
    }
   ],
   "source": [
    "numeric_columns = data_train.dtypes[data_train.dtypes == 'int64'].index.values.tolist() + data_train.dtypes[data_train.dtypes == 'float64'].index.values.tolist() #определим колонки с количественными данными\n",
    "numeric_columns"
   ]
  },
  {
   "cell_type": "code",
   "execution_count": 58,
   "metadata": {
    "tags": []
   },
   "outputs": [],
   "source": [
    "#воспользуемся функцией для вывода основной информации по датасету\n",
    "def get_info(data):\n",
    "    print(\"\\nShape:\\n\")\n",
    "    display(data.shape)\n",
    "    print(\"\\nInfo:\\n\")\n",
    "    data.info()\n",
    "    print(\"\\nHead:\\n\")\n",
    "    display(data.head())\n",
    "    print(\"\\nDuplicated:\\n\")\n",
    "    display(data.duplicated().sum())\n",
    "    for column in (object_columns + numeric_columns):\n",
    "        try:\n",
    "            print('\\nValue counts in ' + column + ':' + '\\n')\n",
    "            display(data[column].value_counts())\n",
    "            print('Количество уникальных значений:', len(data[column].unique()), '\\n')\n",
    "            if column in object_columns:\n",
    "                data[column] = data[column].str.strip() #сразу уберем лишние пробелы, если они есть\n",
    "                display(data[column].value_counts())\n",
    "                print('Количество уникальных значений после удаления пробелов:', len(data[column].unique()), '\\n')\n",
    "        except:\n",
    "            ('No data')\n",
    "            pass"
   ]
  },
  {
   "cell_type": "code",
   "execution_count": 59,
   "metadata": {
    "tags": []
   },
   "outputs": [
    {
     "name": "stdout",
     "output_type": "stream",
     "text": [
      "\n",
      "Shape:\n",
      "\n"
     ]
    },
    {
     "data": {
      "text/plain": [
       "(440236, 15)"
      ]
     },
     "metadata": {},
     "output_type": "display_data"
    },
    {
     "name": "stdout",
     "output_type": "stream",
     "text": [
      "\n",
      "Info:\n",
      "\n",
      "<class 'pandas.core.frame.DataFrame'>\n",
      "RangeIndex: 440236 entries, 0 to 440235\n",
      "Data columns (total 15 columns):\n",
      " #   Column        Non-Null Count   Dtype  \n",
      "---  ------        --------------   -----  \n",
      " 0   year          440236 non-null  int64  \n",
      " 1   make          432193 non-null  object \n",
      " 2   model         432113 non-null  object \n",
      " 3   trim          431899 non-null  object \n",
      " 4   body          429843 non-null  object \n",
      " 5   transmission  388775 non-null  object \n",
      " 6   vin           440236 non-null  object \n",
      " 7   state         440236 non-null  object \n",
      " 8   condition     430831 non-null  float64\n",
      " 9   odometer      440167 non-null  float64\n",
      " 10  color         439650 non-null  object \n",
      " 11  interior      439650 non-null  object \n",
      " 12  seller        440236 non-null  object \n",
      " 13  sellingprice  440236 non-null  int64  \n",
      " 14  saledate      440236 non-null  object \n",
      "dtypes: float64(2), int64(2), object(11)\n",
      "memory usage: 50.4+ MB\n",
      "\n",
      "Head:\n",
      "\n"
     ]
    },
    {
     "data": {
      "text/html": [
       "<div>\n",
       "<style scoped>\n",
       "    .dataframe tbody tr th:only-of-type {\n",
       "        vertical-align: middle;\n",
       "    }\n",
       "\n",
       "    .dataframe tbody tr th {\n",
       "        vertical-align: top;\n",
       "    }\n",
       "\n",
       "    .dataframe thead th {\n",
       "        text-align: right;\n",
       "    }\n",
       "</style>\n",
       "<table border=\"1\" class=\"dataframe\">\n",
       "  <thead>\n",
       "    <tr style=\"text-align: right;\">\n",
       "      <th></th>\n",
       "      <th>year</th>\n",
       "      <th>make</th>\n",
       "      <th>model</th>\n",
       "      <th>trim</th>\n",
       "      <th>body</th>\n",
       "      <th>transmission</th>\n",
       "      <th>vin</th>\n",
       "      <th>state</th>\n",
       "      <th>condition</th>\n",
       "      <th>odometer</th>\n",
       "      <th>color</th>\n",
       "      <th>interior</th>\n",
       "      <th>seller</th>\n",
       "      <th>sellingprice</th>\n",
       "      <th>saledate</th>\n",
       "    </tr>\n",
       "  </thead>\n",
       "  <tbody>\n",
       "    <tr>\n",
       "      <th>0</th>\n",
       "      <td>2011</td>\n",
       "      <td>Ford</td>\n",
       "      <td>Edge</td>\n",
       "      <td>SEL</td>\n",
       "      <td>suv</td>\n",
       "      <td>automatic</td>\n",
       "      <td>2fmdk3jc4bba41556</td>\n",
       "      <td>md</td>\n",
       "      <td>4.2</td>\n",
       "      <td>111041.0</td>\n",
       "      <td>black</td>\n",
       "      <td>black</td>\n",
       "      <td>santander consumer</td>\n",
       "      <td>12500</td>\n",
       "      <td>Tue Jun 02 2015 02:30:00 GMT-0700 (PDT)</td>\n",
       "    </tr>\n",
       "    <tr>\n",
       "      <th>1</th>\n",
       "      <td>2014</td>\n",
       "      <td>Ford</td>\n",
       "      <td>Fusion</td>\n",
       "      <td>SE</td>\n",
       "      <td>Sedan</td>\n",
       "      <td>automatic</td>\n",
       "      <td>3fa6p0h75er208976</td>\n",
       "      <td>mo</td>\n",
       "      <td>3.5</td>\n",
       "      <td>31034.0</td>\n",
       "      <td>black</td>\n",
       "      <td>black</td>\n",
       "      <td>ars/avis budget group</td>\n",
       "      <td>14500</td>\n",
       "      <td>Wed Feb 25 2015 02:00:00 GMT-0800 (PST)</td>\n",
       "    </tr>\n",
       "    <tr>\n",
       "      <th>2</th>\n",
       "      <td>2012</td>\n",
       "      <td>Nissan</td>\n",
       "      <td>Sentra</td>\n",
       "      <td>2.0 SL</td>\n",
       "      <td>sedan</td>\n",
       "      <td>automatic</td>\n",
       "      <td>3n1ab6ap4cl698412</td>\n",
       "      <td>nj</td>\n",
       "      <td>2.2</td>\n",
       "      <td>35619.0</td>\n",
       "      <td>black</td>\n",
       "      <td>black</td>\n",
       "      <td>nissan-infiniti lt</td>\n",
       "      <td>9100</td>\n",
       "      <td>Wed Jun 10 2015 02:30:00 GMT-0700 (PDT)</td>\n",
       "    </tr>\n",
       "    <tr>\n",
       "      <th>3</th>\n",
       "      <td>2003</td>\n",
       "      <td>HUMMER</td>\n",
       "      <td>H2</td>\n",
       "      <td>Base</td>\n",
       "      <td>suv</td>\n",
       "      <td>automatic</td>\n",
       "      <td>5grgn23u93h101360</td>\n",
       "      <td>tx</td>\n",
       "      <td>2.8</td>\n",
       "      <td>131301.0</td>\n",
       "      <td>gold</td>\n",
       "      <td>beige</td>\n",
       "      <td>wichita falls ford lin inc</td>\n",
       "      <td>13300</td>\n",
       "      <td>Wed Jun 17 2015 03:00:00 GMT-0700 (PDT)</td>\n",
       "    </tr>\n",
       "    <tr>\n",
       "      <th>4</th>\n",
       "      <td>2007</td>\n",
       "      <td>Ford</td>\n",
       "      <td>Fusion</td>\n",
       "      <td>SEL</td>\n",
       "      <td>Sedan</td>\n",
       "      <td>automatic</td>\n",
       "      <td>3fahp08z17r268380</td>\n",
       "      <td>md</td>\n",
       "      <td>2.0</td>\n",
       "      <td>127709.0</td>\n",
       "      <td>black</td>\n",
       "      <td>black</td>\n",
       "      <td>purple heart</td>\n",
       "      <td>1300</td>\n",
       "      <td>Tue Feb 03 2015 04:00:00 GMT-0800 (PST)</td>\n",
       "    </tr>\n",
       "  </tbody>\n",
       "</table>\n",
       "</div>"
      ],
      "text/plain": [
       "   year    make   model    trim   body transmission                vin state  \\\n",
       "0  2011    Ford    Edge     SEL    suv    automatic  2fmdk3jc4bba41556    md   \n",
       "1  2014    Ford  Fusion      SE  Sedan    automatic  3fa6p0h75er208976    mo   \n",
       "2  2012  Nissan  Sentra  2.0 SL  sedan    automatic  3n1ab6ap4cl698412    nj   \n",
       "3  2003  HUMMER      H2    Base    suv    automatic  5grgn23u93h101360    tx   \n",
       "4  2007    Ford  Fusion     SEL  Sedan    automatic  3fahp08z17r268380    md   \n",
       "\n",
       "   condition  odometer  color interior                      seller  \\\n",
       "0        4.2  111041.0  black    black          santander consumer   \n",
       "1        3.5   31034.0  black    black       ars/avis budget group   \n",
       "2        2.2   35619.0  black    black          nissan-infiniti lt   \n",
       "3        2.8  131301.0   gold    beige  wichita falls ford lin inc   \n",
       "4        2.0  127709.0  black    black                purple heart   \n",
       "\n",
       "   sellingprice                                 saledate  \n",
       "0         12500  Tue Jun 02 2015 02:30:00 GMT-0700 (PDT)  \n",
       "1         14500  Wed Feb 25 2015 02:00:00 GMT-0800 (PST)  \n",
       "2          9100  Wed Jun 10 2015 02:30:00 GMT-0700 (PDT)  \n",
       "3         13300  Wed Jun 17 2015 03:00:00 GMT-0700 (PDT)  \n",
       "4          1300  Tue Feb 03 2015 04:00:00 GMT-0800 (PST)  "
      ]
     },
     "metadata": {},
     "output_type": "display_data"
    },
    {
     "name": "stdout",
     "output_type": "stream",
     "text": [
      "\n",
      "Duplicated:\n",
      "\n"
     ]
    },
    {
     "data": {
      "text/plain": [
       "0"
      ]
     },
     "metadata": {},
     "output_type": "display_data"
    },
    {
     "name": "stdout",
     "output_type": "stream",
     "text": [
      "\n",
      "Value counts in make:\n",
      "\n"
     ]
    },
    {
     "data": {
      "text/plain": [
       "Ford         73708\n",
       "Chevrolet    47492\n",
       "Nissan       42811\n",
       "Toyota       31630\n",
       "Dodge        24103\n",
       "             ...  \n",
       "Daewoo           1\n",
       "dodge tk         1\n",
       "mazda tk         1\n",
       "dot              1\n",
       "airstream        1\n",
       "Name: make, Length: 92, dtype: int64"
      ]
     },
     "metadata": {},
     "output_type": "display_data"
    },
    {
     "name": "stdout",
     "output_type": "stream",
     "text": [
      "Количество уникальных значений: 93 \n",
      "\n"
     ]
    },
    {
     "data": {
      "text/plain": [
       "Ford         73708\n",
       "Chevrolet    47492\n",
       "Nissan       42811\n",
       "Toyota       31630\n",
       "Dodge        24103\n",
       "             ...  \n",
       "Daewoo           1\n",
       "dodge tk         1\n",
       "mazda tk         1\n",
       "dot              1\n",
       "airstream        1\n",
       "Name: make, Length: 92, dtype: int64"
      ]
     },
     "metadata": {},
     "output_type": "display_data"
    },
    {
     "name": "stdout",
     "output_type": "stream",
     "text": [
      "Количество уникальных значений после удаления пробелов: 93 \n",
      "\n",
      "\n",
      "Value counts in model:\n",
      "\n"
     ]
    },
    {
     "data": {
      "text/plain": [
       "Altima           15454\n",
       "F-150            11408\n",
       "Fusion           10244\n",
       "Camry             9996\n",
       "Escape            9419\n",
       "                 ...  \n",
       "Civic del Sol        1\n",
       "Tempo                1\n",
       "Regency              1\n",
       "8 Series             1\n",
       "g500                 1\n",
       "Name: model, Length: 959, dtype: int64"
      ]
     },
     "metadata": {},
     "output_type": "display_data"
    },
    {
     "name": "stdout",
     "output_type": "stream",
     "text": [
      "Количество уникальных значений: 960 \n",
      "\n"
     ]
    },
    {
     "data": {
      "text/plain": [
       "Altima           15454\n",
       "F-150            11408\n",
       "Fusion           10244\n",
       "Camry             9996\n",
       "Escape            9419\n",
       "                 ...  \n",
       "Civic del Sol        1\n",
       "Tempo                1\n",
       "Regency              1\n",
       "8 Series             1\n",
       "g500                 1\n",
       "Name: model, Length: 959, dtype: int64"
      ]
     },
     "metadata": {},
     "output_type": "display_data"
    },
    {
     "name": "stdout",
     "output_type": "stream",
     "text": [
      "Количество уникальных значений после удаления пробелов: 960 \n",
      "\n",
      "\n",
      "Value counts in trim:\n",
      "\n"
     ]
    },
    {
     "data": {
      "text/plain": [
       "Base                        43853\n",
       "SE                          34465\n",
       "LX                          16490\n",
       "Limited                     14514\n",
       "LT                          13374\n",
       "                            ...  \n",
       "2.3 Premium                     1\n",
       "GLS V6 4Motion                  1\n",
       "2500 High Ceiling 118 WB        1\n",
       "Z71 SL                          1\n",
       "4x4 v6 xlt sport                1\n",
       "Name: trim, Length: 1922, dtype: int64"
      ]
     },
     "metadata": {},
     "output_type": "display_data"
    },
    {
     "name": "stdout",
     "output_type": "stream",
     "text": [
      "Количество уникальных значений: 1923 \n",
      "\n"
     ]
    },
    {
     "data": {
      "text/plain": [
       "Base                43853\n",
       "SE                  34465\n",
       "LX                  16490\n",
       "Limited             14524\n",
       "LT                  13374\n",
       "                    ...  \n",
       "awd limited             1\n",
       "fwd 4c base             1\n",
       "4x2 ex xl               1\n",
       "Limited (1994.5)        1\n",
       "4x4 v6 xlt sport        1\n",
       "Name: trim, Length: 1913, dtype: int64"
      ]
     },
     "metadata": {},
     "output_type": "display_data"
    },
    {
     "name": "stdout",
     "output_type": "stream",
     "text": [
      "Количество уникальных значений после удаления пробелов: 1914 \n",
      "\n",
      "\n",
      "Value counts in body:\n",
      "\n"
     ]
    },
    {
     "data": {
      "text/plain": [
       "Sedan              157639\n",
       "SUV                 93633\n",
       "sedan               33222\n",
       "suv                 19409\n",
       "Hatchback           16893\n",
       "                    ...  \n",
       "q60 convertible         2\n",
       "Ram Van                 1\n",
       "g37 coupe               1\n",
       "cab plus 4              1\n",
       "CTS-V Wagon             1\n",
       "Name: body, Length: 85, dtype: int64"
      ]
     },
     "metadata": {},
     "output_type": "display_data"
    },
    {
     "name": "stdout",
     "output_type": "stream",
     "text": [
      "Количество уникальных значений: 86 \n",
      "\n"
     ]
    },
    {
     "data": {
      "text/plain": [
       "Sedan              157639\n",
       "SUV                 93633\n",
       "sedan               33222\n",
       "suv                 19409\n",
       "Hatchback           16893\n",
       "                    ...  \n",
       "q60 convertible         2\n",
       "Ram Van                 1\n",
       "g37 coupe               1\n",
       "cab plus 4              1\n",
       "CTS-V Wagon             1\n",
       "Name: body, Length: 85, dtype: int64"
      ]
     },
     "metadata": {},
     "output_type": "display_data"
    },
    {
     "name": "stdout",
     "output_type": "stream",
     "text": [
      "Количество уникальных значений после удаления пробелов: 86 \n",
      "\n",
      "\n",
      "Value counts in transmission:\n",
      "\n"
     ]
    },
    {
     "data": {
      "text/plain": [
       "automatic    375061\n",
       "manual        13714\n",
       "Name: transmission, dtype: int64"
      ]
     },
     "metadata": {},
     "output_type": "display_data"
    },
    {
     "name": "stdout",
     "output_type": "stream",
     "text": [
      "Количество уникальных значений: 3 \n",
      "\n"
     ]
    },
    {
     "data": {
      "text/plain": [
       "automatic    375061\n",
       "manual        13714\n",
       "Name: transmission, dtype: int64"
      ]
     },
     "metadata": {},
     "output_type": "display_data"
    },
    {
     "name": "stdout",
     "output_type": "stream",
     "text": [
      "Количество уникальных значений после удаления пробелов: 3 \n",
      "\n",
      "\n",
      "Value counts in vin:\n",
      "\n"
     ]
    },
    {
     "data": {
      "text/plain": [
       "2fmdk3jc4bba41556    1\n",
       "1g1pg5sb2d7145116    1\n",
       "3vwdx7aj9cm313804    1\n",
       "4t1bf1fk8eu812681    1\n",
       "wba3t3c51ep737328    1\n",
       "                    ..\n",
       "ys3eh59g463523257    1\n",
       "3gcec23099g216975    1\n",
       "1lnhl9ek9dg616880    1\n",
       "5n1ar1nb6bc617359    1\n",
       "jn8as5mt9dw038107    1\n",
       "Name: vin, Length: 440236, dtype: int64"
      ]
     },
     "metadata": {},
     "output_type": "display_data"
    },
    {
     "name": "stdout",
     "output_type": "stream",
     "text": [
      "Количество уникальных значений: 440236 \n",
      "\n"
     ]
    },
    {
     "data": {
      "text/plain": [
       "2fmdk3jc4bba41556    1\n",
       "1g1pg5sb2d7145116    1\n",
       "3vwdx7aj9cm313804    1\n",
       "4t1bf1fk8eu812681    1\n",
       "wba3t3c51ep737328    1\n",
       "                    ..\n",
       "ys3eh59g463523257    1\n",
       "3gcec23099g216975    1\n",
       "1lnhl9ek9dg616880    1\n",
       "5n1ar1nb6bc617359    1\n",
       "jn8as5mt9dw038107    1\n",
       "Name: vin, Length: 440236, dtype: int64"
      ]
     },
     "metadata": {},
     "output_type": "display_data"
    },
    {
     "name": "stdout",
     "output_type": "stream",
     "text": [
      "Количество уникальных значений после удаления пробелов: 440236 \n",
      "\n",
      "\n",
      "Value counts in state:\n",
      "\n"
     ]
    },
    {
     "data": {
      "text/plain": [
       "fl    65618\n",
       "ca    57407\n",
       "pa    42462\n",
       "tx    36104\n",
       "ga    27141\n",
       "nj    22102\n",
       "il    18651\n",
       "nc    17051\n",
       "oh    16959\n",
       "tn    16156\n",
       "mo    12563\n",
       "mi    12393\n",
       "nv     9830\n",
       "va     9444\n",
       "md     8858\n",
       "wi     7866\n",
       "mn     7436\n",
       "az     6903\n",
       "co     6118\n",
       "wa     5883\n",
       "ma     5323\n",
       "ny     4533\n",
       "in     3453\n",
       "sc     3315\n",
       "ne     3213\n",
       "on     2722\n",
       "pr     2162\n",
       "la     1741\n",
       "ms     1468\n",
       "ut     1451\n",
       "qc     1000\n",
       "hi      992\n",
       "or      928\n",
       "ab      729\n",
       "nm      130\n",
       "ok       60\n",
       "ns       52\n",
       "al       19\n",
       "Name: state, dtype: int64"
      ]
     },
     "metadata": {},
     "output_type": "display_data"
    },
    {
     "name": "stdout",
     "output_type": "stream",
     "text": [
      "Количество уникальных значений: 38 \n",
      "\n"
     ]
    },
    {
     "data": {
      "text/plain": [
       "fl    65618\n",
       "ca    57407\n",
       "pa    42462\n",
       "tx    36104\n",
       "ga    27141\n",
       "nj    22102\n",
       "il    18651\n",
       "nc    17051\n",
       "oh    16959\n",
       "tn    16156\n",
       "mo    12563\n",
       "mi    12393\n",
       "nv     9830\n",
       "va     9444\n",
       "md     8858\n",
       "wi     7866\n",
       "mn     7436\n",
       "az     6903\n",
       "co     6118\n",
       "wa     5883\n",
       "ma     5323\n",
       "ny     4533\n",
       "in     3453\n",
       "sc     3315\n",
       "ne     3213\n",
       "on     2722\n",
       "pr     2162\n",
       "la     1741\n",
       "ms     1468\n",
       "ut     1451\n",
       "qc     1000\n",
       "hi      992\n",
       "or      928\n",
       "ab      729\n",
       "nm      130\n",
       "ok       60\n",
       "ns       52\n",
       "al       19\n",
       "Name: state, dtype: int64"
      ]
     },
     "metadata": {},
     "output_type": "display_data"
    },
    {
     "name": "stdout",
     "output_type": "stream",
     "text": [
      "Количество уникальных значений после удаления пробелов: 38 \n",
      "\n",
      "\n",
      "Value counts in color:\n",
      "\n"
     ]
    },
    {
     "data": {
      "text/plain": [
       "black        87115\n",
       "white        84149\n",
       "silver       65667\n",
       "gray         65284\n",
       "blue         40237\n",
       "red          34514\n",
       "—            19520\n",
       "green         8975\n",
       "gold          8934\n",
       "beige         7257\n",
       "burgundy      7059\n",
       "brown         5320\n",
       "orange        1629\n",
       "purple        1250\n",
       "off-white     1143\n",
       "yellow         979\n",
       "charcoal       389\n",
       "turquoise      183\n",
       "pink            32\n",
       "lime            14\n",
       "Name: color, dtype: int64"
      ]
     },
     "metadata": {},
     "output_type": "display_data"
    },
    {
     "name": "stdout",
     "output_type": "stream",
     "text": [
      "Количество уникальных значений: 21 \n",
      "\n"
     ]
    },
    {
     "data": {
      "text/plain": [
       "black        87115\n",
       "white        84149\n",
       "silver       65667\n",
       "gray         65284\n",
       "blue         40237\n",
       "red          34514\n",
       "—            19520\n",
       "green         8975\n",
       "gold          8934\n",
       "beige         7257\n",
       "burgundy      7059\n",
       "brown         5320\n",
       "orange        1629\n",
       "purple        1250\n",
       "off-white     1143\n",
       "yellow         979\n",
       "charcoal       389\n",
       "turquoise      183\n",
       "pink            32\n",
       "lime            14\n",
       "Name: color, dtype: int64"
      ]
     },
     "metadata": {},
     "output_type": "display_data"
    },
    {
     "name": "stdout",
     "output_type": "stream",
     "text": [
      "Количество уникальных значений после удаления пробелов: 21 \n",
      "\n",
      "\n",
      "Value counts in interior:\n",
      "\n"
     ]
    },
    {
     "data": {
      "text/plain": [
       "black        192442\n",
       "gray         140843\n",
       "beige         46878\n",
       "tan           34709\n",
       "—             13563\n",
       "brown          6818\n",
       "red            1070\n",
       "blue            885\n",
       "silver          844\n",
       "off-white       373\n",
       "purple          276\n",
       "gold            256\n",
       "white           215\n",
       "green           198\n",
       "burgundy        155\n",
       "orange          109\n",
       "yellow           16\n",
       "Name: interior, dtype: int64"
      ]
     },
     "metadata": {},
     "output_type": "display_data"
    },
    {
     "name": "stdout",
     "output_type": "stream",
     "text": [
      "Количество уникальных значений: 18 \n",
      "\n"
     ]
    },
    {
     "data": {
      "text/plain": [
       "black        192442\n",
       "gray         140843\n",
       "beige         46878\n",
       "tan           34709\n",
       "—             13563\n",
       "brown          6818\n",
       "red            1070\n",
       "blue            885\n",
       "silver          844\n",
       "off-white       373\n",
       "purple          276\n",
       "gold            256\n",
       "white           215\n",
       "green           198\n",
       "burgundy        155\n",
       "orange          109\n",
       "yellow           16\n",
       "Name: interior, dtype: int64"
      ]
     },
     "metadata": {},
     "output_type": "display_data"
    },
    {
     "name": "stdout",
     "output_type": "stream",
     "text": [
      "Количество уникальных значений после удаления пробелов: 18 \n",
      "\n",
      "\n",
      "Value counts in seller:\n",
      "\n"
     ]
    },
    {
     "data": {
      "text/plain": [
       "nissan-infiniti lt                15823\n",
       "ford motor credit company,llc     15276\n",
       "the hertz corporation             14692\n",
       "santander consumer                12230\n",
       "avis corporation                  10098\n",
       "                                  ...  \n",
       "bay shore motors                      1\n",
       "thrifty rent a car systems inc        1\n",
       "volvo of wichita                      1\n",
       "wright way hyundai                    1\n",
       "studio city auto group                1\n",
       "Name: seller, Length: 13025, dtype: int64"
      ]
     },
     "metadata": {},
     "output_type": "display_data"
    },
    {
     "name": "stdout",
     "output_type": "stream",
     "text": [
      "Количество уникальных значений: 13025 \n",
      "\n"
     ]
    },
    {
     "data": {
      "text/plain": [
       "nissan-infiniti lt                15823\n",
       "ford motor credit company,llc     15276\n",
       "the hertz corporation             14692\n",
       "santander consumer                12230\n",
       "avis corporation                  10098\n",
       "                                  ...  \n",
       "bay shore motors                      1\n",
       "thrifty rent a car systems inc        1\n",
       "volvo of wichita                      1\n",
       "wright way hyundai                    1\n",
       "studio city auto group                1\n",
       "Name: seller, Length: 13025, dtype: int64"
      ]
     },
     "metadata": {},
     "output_type": "display_data"
    },
    {
     "name": "stdout",
     "output_type": "stream",
     "text": [
      "Количество уникальных значений после удаления пробелов: 13025 \n",
      "\n",
      "\n",
      "Value counts in saledate:\n",
      "\n"
     ]
    },
    {
     "data": {
      "text/plain": [
       "Tue Feb 10 2015 01:30:00 GMT-0800 (PST)    4209\n",
       "Tue Jan 27 2015 01:30:00 GMT-0800 (PST)    3878\n",
       "Tue Feb 17 2015 01:30:00 GMT-0800 (PST)    3862\n",
       "Tue Jan 20 2015 01:30:00 GMT-0800 (PST)    3777\n",
       "Tue Mar 03 2015 01:30:00 GMT-0800 (PST)    3633\n",
       "                                           ... \n",
       "Wed Jan 07 2015 05:10:00 GMT-0800 (PST)       1\n",
       "Thu Jun 25 2015 03:35:00 GMT-0700 (PDT)       1\n",
       "Wed Jun 17 2015 06:15:00 GMT-0700 (PDT)       1\n",
       "Wed Apr 01 2015 09:31:00 GMT-0700 (PDT)       1\n",
       "Wed May 20 2015 01:30:00 GMT-0700 (PDT)       1\n",
       "Name: saledate, Length: 3597, dtype: int64"
      ]
     },
     "metadata": {},
     "output_type": "display_data"
    },
    {
     "name": "stdout",
     "output_type": "stream",
     "text": [
      "Количество уникальных значений: 3597 \n",
      "\n"
     ]
    },
    {
     "data": {
      "text/plain": [
       "Tue Feb 10 2015 01:30:00 GMT-0800 (PST)    4209\n",
       "Tue Jan 27 2015 01:30:00 GMT-0800 (PST)    3878\n",
       "Tue Feb 17 2015 01:30:00 GMT-0800 (PST)    3862\n",
       "Tue Jan 20 2015 01:30:00 GMT-0800 (PST)    3777\n",
       "Tue Mar 03 2015 01:30:00 GMT-0800 (PST)    3633\n",
       "                                           ... \n",
       "Wed Jan 07 2015 05:10:00 GMT-0800 (PST)       1\n",
       "Thu Jun 25 2015 03:35:00 GMT-0700 (PDT)       1\n",
       "Wed Jun 17 2015 06:15:00 GMT-0700 (PDT)       1\n",
       "Wed Apr 01 2015 09:31:00 GMT-0700 (PDT)       1\n",
       "Wed May 20 2015 01:30:00 GMT-0700 (PDT)       1\n",
       "Name: saledate, Length: 3597, dtype: int64"
      ]
     },
     "metadata": {},
     "output_type": "display_data"
    },
    {
     "name": "stdout",
     "output_type": "stream",
     "text": [
      "Количество уникальных значений после удаления пробелов: 3597 \n",
      "\n",
      "\n",
      "Value counts in year:\n",
      "\n"
     ]
    },
    {
     "data": {
      "text/plain": [
       "2012    80625\n",
       "2013    77566\n",
       "2014    64225\n",
       "2011    38115\n",
       "2008    24646\n",
       "2007    24152\n",
       "2006    21118\n",
       "2010    20647\n",
       "2005    16794\n",
       "2009    16064\n",
       "2004    13658\n",
       "2003    10512\n",
       "2002     7726\n",
       "2015     7462\n",
       "2001     5147\n",
       "2000     4161\n",
       "1999     2658\n",
       "1998     1747\n",
       "1997     1224\n",
       "1996      683\n",
       "1995      567\n",
       "1994      319\n",
       "1993      168\n",
       "1992      103\n",
       "1991       56\n",
       "1990       38\n",
       "1989       15\n",
       "1988       11\n",
       "1985       10\n",
       "1986        8\n",
       "1987        5\n",
       "1984        4\n",
       "1983        1\n",
       "1982        1\n",
       "Name: year, dtype: int64"
      ]
     },
     "metadata": {},
     "output_type": "display_data"
    },
    {
     "name": "stdout",
     "output_type": "stream",
     "text": [
      "Количество уникальных значений: 34 \n",
      "\n",
      "\n",
      "Value counts in sellingprice:\n",
      "\n"
     ]
    },
    {
     "data": {
      "text/plain": [
       "11000    3510\n",
       "12000    3499\n",
       "13000    3374\n",
       "10000    3178\n",
       "14000    3104\n",
       "         ... \n",
       "57100       1\n",
       "73100       1\n",
       "41501       1\n",
       "66700       1\n",
       "2725        1\n",
       "Name: sellingprice, Length: 1735, dtype: int64"
      ]
     },
     "metadata": {},
     "output_type": "display_data"
    },
    {
     "name": "stdout",
     "output_type": "stream",
     "text": [
      "Количество уникальных значений: 1735 \n",
      "\n",
      "\n",
      "Value counts in condition:\n",
      "\n"
     ]
    },
    {
     "data": {
      "text/plain": [
       "1.9    33207\n",
       "3.5    21016\n",
       "3.7    20399\n",
       "4.4    20027\n",
       "4.3    19712\n",
       "4.2    19345\n",
       "3.6    18209\n",
       "4.1    18108\n",
       "2.0    16431\n",
       "4.0    15797\n",
       "3.9    15623\n",
       "2.8    15012\n",
       "2.9    14823\n",
       "3.8    14785\n",
       "3.4    13654\n",
       "2.7    12837\n",
       "4.9    10305\n",
       "4.8    10040\n",
       "2.5     9900\n",
       "4.6     9897\n",
       "4.5     9660\n",
       "2.6     9403\n",
       "4.7     9058\n",
       "5.0     8862\n",
       "3.3     8459\n",
       "3.0     8451\n",
       "3.2     7861\n",
       "2.4     7378\n",
       "2.1     7260\n",
       "3.1     7258\n",
       "2.3     6436\n",
       "1.0     5855\n",
       "2.2     4742\n",
       "1.8      249\n",
       "1.7      198\n",
       "1.6      132\n",
       "1.5      123\n",
       "1.4      103\n",
       "1.2       74\n",
       "1.1       74\n",
       "1.3       68\n",
       "Name: condition, dtype: int64"
      ]
     },
     "metadata": {},
     "output_type": "display_data"
    },
    {
     "name": "stdout",
     "output_type": "stream",
     "text": [
      "Количество уникальных значений: 42 \n",
      "\n",
      "\n",
      "Value counts in odometer:\n",
      "\n"
     ]
    },
    {
     "data": {
      "text/plain": [
       "1.0         1059\n",
       "999999.0      55\n",
       "10.0          23\n",
       "21587.0       17\n",
       "21310.0       17\n",
       "            ... \n",
       "125152.0       1\n",
       "73715.0        1\n",
       "71041.0        1\n",
       "197617.0       1\n",
       "174269.0       1\n",
       "Name: odometer, Length: 159364, dtype: int64"
      ]
     },
     "metadata": {},
     "output_type": "display_data"
    },
    {
     "name": "stdout",
     "output_type": "stream",
     "text": [
      "Количество уникальных значений: 159365 \n",
      "\n"
     ]
    }
   ],
   "source": [
    "get_info(data_train)"
   ]
  },
  {
   "cell_type": "code",
   "execution_count": 60,
   "metadata": {
    "tags": []
   },
   "outputs": [
    {
     "name": "stdout",
     "output_type": "stream",
     "text": [
      "\n",
      "Shape:\n",
      "\n"
     ]
    },
    {
     "data": {
      "text/plain": [
       "(110060, 14)"
      ]
     },
     "metadata": {},
     "output_type": "display_data"
    },
    {
     "name": "stdout",
     "output_type": "stream",
     "text": [
      "\n",
      "Info:\n",
      "\n",
      "<class 'pandas.core.frame.DataFrame'>\n",
      "RangeIndex: 110060 entries, 0 to 110059\n",
      "Data columns (total 14 columns):\n",
      " #   Column        Non-Null Count   Dtype  \n",
      "---  ------        --------------   -----  \n",
      " 0   year          110060 non-null  int64  \n",
      " 1   make          107999 non-null  object \n",
      " 2   model         107981 non-null  object \n",
      " 3   trim          107946 non-null  object \n",
      " 4   body          107466 non-null  object \n",
      " 5   transmission  97048 non-null   object \n",
      " 6   vin           110060 non-null  object \n",
      " 7   state         110060 non-null  object \n",
      " 8   condition     107681 non-null  float64\n",
      " 9   odometer      110041 non-null  float64\n",
      " 10  color         109902 non-null  object \n",
      " 11  interior      109902 non-null  object \n",
      " 12  seller        110060 non-null  object \n",
      " 13  saledate      110060 non-null  object \n",
      "dtypes: float64(2), int64(1), object(11)\n",
      "memory usage: 11.8+ MB\n",
      "\n",
      "Head:\n",
      "\n"
     ]
    },
    {
     "data": {
      "text/html": [
       "<div>\n",
       "<style scoped>\n",
       "    .dataframe tbody tr th:only-of-type {\n",
       "        vertical-align: middle;\n",
       "    }\n",
       "\n",
       "    .dataframe tbody tr th {\n",
       "        vertical-align: top;\n",
       "    }\n",
       "\n",
       "    .dataframe thead th {\n",
       "        text-align: right;\n",
       "    }\n",
       "</style>\n",
       "<table border=\"1\" class=\"dataframe\">\n",
       "  <thead>\n",
       "    <tr style=\"text-align: right;\">\n",
       "      <th></th>\n",
       "      <th>year</th>\n",
       "      <th>make</th>\n",
       "      <th>model</th>\n",
       "      <th>trim</th>\n",
       "      <th>body</th>\n",
       "      <th>transmission</th>\n",
       "      <th>vin</th>\n",
       "      <th>state</th>\n",
       "      <th>condition</th>\n",
       "      <th>odometer</th>\n",
       "      <th>color</th>\n",
       "      <th>interior</th>\n",
       "      <th>seller</th>\n",
       "      <th>saledate</th>\n",
       "    </tr>\n",
       "  </thead>\n",
       "  <tbody>\n",
       "    <tr>\n",
       "      <th>0</th>\n",
       "      <td>2005</td>\n",
       "      <td>Cadillac</td>\n",
       "      <td>CTS</td>\n",
       "      <td>Base</td>\n",
       "      <td>Sedan</td>\n",
       "      <td>automatic</td>\n",
       "      <td>1g6dp567450124779</td>\n",
       "      <td>ca</td>\n",
       "      <td>2.7</td>\n",
       "      <td>116970.0</td>\n",
       "      <td>silver</td>\n",
       "      <td>black</td>\n",
       "      <td>lexus of stevens creek</td>\n",
       "      <td>Wed Jan 14 2015 04:30:00 GMT-0800 (PST)</td>\n",
       "    </tr>\n",
       "    <tr>\n",
       "      <th>1</th>\n",
       "      <td>2014</td>\n",
       "      <td>GMC</td>\n",
       "      <td>Savana Cargo</td>\n",
       "      <td>2500</td>\n",
       "      <td>Van</td>\n",
       "      <td>NaN</td>\n",
       "      <td>1gtw7fca7e1902207</td>\n",
       "      <td>pa</td>\n",
       "      <td>4.4</td>\n",
       "      <td>6286.0</td>\n",
       "      <td>white</td>\n",
       "      <td>gray</td>\n",
       "      <td>u-haul</td>\n",
       "      <td>Fri Feb 27 2015 01:00:00 GMT-0800 (PST)</td>\n",
       "    </tr>\n",
       "    <tr>\n",
       "      <th>2</th>\n",
       "      <td>2013</td>\n",
       "      <td>Nissan</td>\n",
       "      <td>Murano</td>\n",
       "      <td>S</td>\n",
       "      <td>SUV</td>\n",
       "      <td>automatic</td>\n",
       "      <td>jn8az1mw6dw303497</td>\n",
       "      <td>oh</td>\n",
       "      <td>4.6</td>\n",
       "      <td>11831.0</td>\n",
       "      <td>gray</td>\n",
       "      <td>black</td>\n",
       "      <td>nissan-infiniti lt</td>\n",
       "      <td>Tue Feb 24 2015 01:30:00 GMT-0800 (PST)</td>\n",
       "    </tr>\n",
       "    <tr>\n",
       "      <th>3</th>\n",
       "      <td>2013</td>\n",
       "      <td>Chevrolet</td>\n",
       "      <td>Impala</td>\n",
       "      <td>LS Fleet</td>\n",
       "      <td>Sedan</td>\n",
       "      <td>automatic</td>\n",
       "      <td>2g1wf5e34d1160703</td>\n",
       "      <td>fl</td>\n",
       "      <td>2.3</td>\n",
       "      <td>57105.0</td>\n",
       "      <td>silver</td>\n",
       "      <td>black</td>\n",
       "      <td>onemain rem/auto club of miami inc dba north dad</td>\n",
       "      <td>Fri Mar 06 2015 02:00:00 GMT-0800 (PST)</td>\n",
       "    </tr>\n",
       "    <tr>\n",
       "      <th>4</th>\n",
       "      <td>2013</td>\n",
       "      <td>Nissan</td>\n",
       "      <td>Titan</td>\n",
       "      <td>SV</td>\n",
       "      <td>Crew Cab</td>\n",
       "      <td>automatic</td>\n",
       "      <td>1n6aa0ec3dn301209</td>\n",
       "      <td>tn</td>\n",
       "      <td>2.9</td>\n",
       "      <td>31083.0</td>\n",
       "      <td>black</td>\n",
       "      <td>black</td>\n",
       "      <td>nissan north america inc.</td>\n",
       "      <td>Wed Jun 03 2015 03:30:00 GMT-0700 (PDT)</td>\n",
       "    </tr>\n",
       "  </tbody>\n",
       "</table>\n",
       "</div>"
      ],
      "text/plain": [
       "   year       make         model      trim      body transmission  \\\n",
       "0  2005   Cadillac           CTS      Base     Sedan    automatic   \n",
       "1  2014        GMC  Savana Cargo      2500       Van          NaN   \n",
       "2  2013     Nissan        Murano         S       SUV    automatic   \n",
       "3  2013  Chevrolet        Impala  LS Fleet     Sedan    automatic   \n",
       "4  2013     Nissan         Titan        SV  Crew Cab    automatic   \n",
       "\n",
       "                 vin state  condition  odometer   color interior  \\\n",
       "0  1g6dp567450124779    ca        2.7  116970.0  silver    black   \n",
       "1  1gtw7fca7e1902207    pa        4.4    6286.0   white     gray   \n",
       "2  jn8az1mw6dw303497    oh        4.6   11831.0    gray    black   \n",
       "3  2g1wf5e34d1160703    fl        2.3   57105.0  silver    black   \n",
       "4  1n6aa0ec3dn301209    tn        2.9   31083.0   black    black   \n",
       "\n",
       "                                             seller  \\\n",
       "0                            lexus of stevens creek   \n",
       "1                                            u-haul   \n",
       "2                                nissan-infiniti lt   \n",
       "3  onemain rem/auto club of miami inc dba north dad   \n",
       "4                         nissan north america inc.   \n",
       "\n",
       "                                  saledate  \n",
       "0  Wed Jan 14 2015 04:30:00 GMT-0800 (PST)  \n",
       "1  Fri Feb 27 2015 01:00:00 GMT-0800 (PST)  \n",
       "2  Tue Feb 24 2015 01:30:00 GMT-0800 (PST)  \n",
       "3  Fri Mar 06 2015 02:00:00 GMT-0800 (PST)  \n",
       "4  Wed Jun 03 2015 03:30:00 GMT-0700 (PDT)  "
      ]
     },
     "metadata": {},
     "output_type": "display_data"
    },
    {
     "name": "stdout",
     "output_type": "stream",
     "text": [
      "\n",
      "Duplicated:\n",
      "\n"
     ]
    },
    {
     "data": {
      "text/plain": [
       "0"
      ]
     },
     "metadata": {},
     "output_type": "display_data"
    },
    {
     "name": "stdout",
     "output_type": "stream",
     "text": [
      "\n",
      "Value counts in make:\n",
      "\n"
     ]
    },
    {
     "data": {
      "text/plain": [
       "Ford            18384\n",
       "Chevrolet       11739\n",
       "Nissan          10469\n",
       "Toyota           7715\n",
       "Dodge            6134\n",
       "                ...  \n",
       "Aston Martin        2\n",
       "Lotus               1\n",
       "hyundai tk          1\n",
       "ford tk             1\n",
       "chev truck          1\n",
       "Name: make, Length: 85, dtype: int64"
      ]
     },
     "metadata": {},
     "output_type": "display_data"
    },
    {
     "name": "stdout",
     "output_type": "stream",
     "text": [
      "Количество уникальных значений: 86 \n",
      "\n"
     ]
    },
    {
     "data": {
      "text/plain": [
       "Ford            18384\n",
       "Chevrolet       11739\n",
       "Nissan          10469\n",
       "Toyota           7715\n",
       "Dodge            6134\n",
       "                ...  \n",
       "Aston Martin        2\n",
       "Lotus               1\n",
       "hyundai tk          1\n",
       "ford tk             1\n",
       "chev truck          1\n",
       "Name: make, Length: 85, dtype: int64"
      ]
     },
     "metadata": {},
     "output_type": "display_data"
    },
    {
     "name": "stdout",
     "output_type": "stream",
     "text": [
      "Количество уникальных значений после удаления пробелов: 86 \n",
      "\n",
      "\n",
      "Value counts in model:\n",
      "\n"
     ]
    },
    {
     "data": {
      "text/plain": [
       "Altima                    3736\n",
       "F-150                     2737\n",
       "Fusion                    2553\n",
       "Camry                     2423\n",
       "Escape                    2292\n",
       "                          ... \n",
       "B-Class Electric Drive       1\n",
       "bronco                       1\n",
       "X4                           1\n",
       "vibe                         1\n",
       "Caprice                      1\n",
       "Name: model, Length: 824, dtype: int64"
      ]
     },
     "metadata": {},
     "output_type": "display_data"
    },
    {
     "name": "stdout",
     "output_type": "stream",
     "text": [
      "Количество уникальных значений: 825 \n",
      "\n"
     ]
    },
    {
     "data": {
      "text/plain": [
       "Altima                    3736\n",
       "F-150                     2737\n",
       "Fusion                    2553\n",
       "Camry                     2423\n",
       "Escape                    2292\n",
       "                          ... \n",
       "B-Class Electric Drive       1\n",
       "bronco                       1\n",
       "X4                           1\n",
       "vibe                         1\n",
       "Caprice                      1\n",
       "Name: model, Length: 824, dtype: int64"
      ]
     },
     "metadata": {},
     "output_type": "display_data"
    },
    {
     "name": "stdout",
     "output_type": "stream",
     "text": [
      "Количество уникальных значений после удаления пробелов: 825 \n",
      "\n",
      "\n",
      "Value counts in trim:\n",
      "\n"
     ]
    },
    {
     "data": {
      "text/plain": [
       "Base                 11007\n",
       "SE                    8715\n",
       "LX                    4094\n",
       "Limited               3536\n",
       "LT                    3268\n",
       "                     ...  \n",
       "3.2 Premium              1\n",
       "4x2 rg work truck        1\n",
       "LX Premium               1\n",
       "Z71 SLE                  1\n",
       "awd xs ll bean           1\n",
       "Name: trim, Length: 1496, dtype: int64"
      ]
     },
     "metadata": {},
     "output_type": "display_data"
    },
    {
     "name": "stdout",
     "output_type": "stream",
     "text": [
      "Количество уникальных значений: 1497 \n",
      "\n"
     ]
    },
    {
     "data": {
      "text/plain": [
       "Base                  11007\n",
       "SE                     8715\n",
       "LX                     4094\n",
       "Limited                3537\n",
       "LT                     3268\n",
       "                      ...  \n",
       "CLS63 AMG                 1\n",
       "Ultimate Adventure        1\n",
       "CLK55 AMG                 1\n",
       "4x2 ex xl                 1\n",
       "awd xs ll bean            1\n",
       "Name: trim, Length: 1488, dtype: int64"
      ]
     },
     "metadata": {},
     "output_type": "display_data"
    },
    {
     "name": "stdout",
     "output_type": "stream",
     "text": [
      "Количество уникальных значений после удаления пробелов: 1489 \n",
      "\n",
      "\n",
      "Value counts in body:\n",
      "\n"
     ]
    },
    {
     "data": {
      "text/plain": [
       "Sedan                      39255\n",
       "SUV                        23541\n",
       "sedan                       8229\n",
       "suv                         4755\n",
       "Minivan                     4250\n",
       "                           ...  \n",
       "q60 convertible                2\n",
       "granturismo convertible        1\n",
       "Cab Plus                       1\n",
       "transit van                    1\n",
       "xtracab                        1\n",
       "Name: body, Length: 77, dtype: int64"
      ]
     },
     "metadata": {},
     "output_type": "display_data"
    },
    {
     "name": "stdout",
     "output_type": "stream",
     "text": [
      "Количество уникальных значений: 78 \n",
      "\n"
     ]
    },
    {
     "data": {
      "text/plain": [
       "Sedan                      39255\n",
       "SUV                        23541\n",
       "sedan                       8229\n",
       "suv                         4755\n",
       "Minivan                     4250\n",
       "                           ...  \n",
       "q60 convertible                2\n",
       "granturismo convertible        1\n",
       "Cab Plus                       1\n",
       "transit van                    1\n",
       "xtracab                        1\n",
       "Name: body, Length: 77, dtype: int64"
      ]
     },
     "metadata": {},
     "output_type": "display_data"
    },
    {
     "name": "stdout",
     "output_type": "stream",
     "text": [
      "Количество уникальных значений после удаления пробелов: 78 \n",
      "\n",
      "\n",
      "Value counts in transmission:\n",
      "\n"
     ]
    },
    {
     "data": {
      "text/plain": [
       "automatic    93585\n",
       "manual        3463\n",
       "Name: transmission, dtype: int64"
      ]
     },
     "metadata": {},
     "output_type": "display_data"
    },
    {
     "name": "stdout",
     "output_type": "stream",
     "text": [
      "Количество уникальных значений: 3 \n",
      "\n"
     ]
    },
    {
     "data": {
      "text/plain": [
       "automatic    93585\n",
       "manual        3463\n",
       "Name: transmission, dtype: int64"
      ]
     },
     "metadata": {},
     "output_type": "display_data"
    },
    {
     "name": "stdout",
     "output_type": "stream",
     "text": [
      "Количество уникальных значений после удаления пробелов: 3 \n",
      "\n",
      "\n",
      "Value counts in vin:\n",
      "\n"
     ]
    },
    {
     "data": {
      "text/plain": [
       "1g6dp567450124779    1\n",
       "jtjgw31u882851265    1\n",
       "kmhdh4ae0cu444094    1\n",
       "jthbk1eg8c2503877    1\n",
       "jhmge88449s054133    1\n",
       "                    ..\n",
       "jn8as5mt4dw548882    1\n",
       "2lmdj8jk7dbl48377    1\n",
       "1g1zd5e06af238248    1\n",
       "19xfb2f55ce030898    1\n",
       "2g1fa1e32c9193058    1\n",
       "Name: vin, Length: 110060, dtype: int64"
      ]
     },
     "metadata": {},
     "output_type": "display_data"
    },
    {
     "name": "stdout",
     "output_type": "stream",
     "text": [
      "Количество уникальных значений: 110060 \n",
      "\n"
     ]
    },
    {
     "data": {
      "text/plain": [
       "1g6dp567450124779    1\n",
       "jtjgw31u882851265    1\n",
       "kmhdh4ae0cu444094    1\n",
       "jthbk1eg8c2503877    1\n",
       "jhmge88449s054133    1\n",
       "                    ..\n",
       "jn8as5mt4dw548882    1\n",
       "2lmdj8jk7dbl48377    1\n",
       "1g1zd5e06af238248    1\n",
       "19xfb2f55ce030898    1\n",
       "2g1fa1e32c9193058    1\n",
       "Name: vin, Length: 110060, dtype: int64"
      ]
     },
     "metadata": {},
     "output_type": "display_data"
    },
    {
     "name": "stdout",
     "output_type": "stream",
     "text": [
      "Количество уникальных значений после удаления пробелов: 110060 \n",
      "\n",
      "\n",
      "Value counts in state:\n",
      "\n"
     ]
    },
    {
     "data": {
      "text/plain": [
       "fl    16295\n",
       "ca    14204\n",
       "pa    10744\n",
       "tx     8945\n",
       "ga     6862\n",
       "nj     5522\n",
       "il     4656\n",
       "oh     4230\n",
       "nc     4201\n",
       "tn     4075\n",
       "mo     3221\n",
       "mi     3017\n",
       "nv     2543\n",
       "va     2377\n",
       "md     2196\n",
       "wi     1921\n",
       "mn     1904\n",
       "az     1732\n",
       "co     1548\n",
       "wa     1481\n",
       "ma     1372\n",
       "ny     1130\n",
       "sc      893\n",
       "in      843\n",
       "ne      764\n",
       "on      714\n",
       "pr      542\n",
       "la      431\n",
       "ut      371\n",
       "ms      370\n",
       "hi      241\n",
       "qc      240\n",
       "or      220\n",
       "ab      190\n",
       "nm       41\n",
       "ok       12\n",
       "ns        9\n",
       "al        3\n",
       "Name: state, dtype: int64"
      ]
     },
     "metadata": {},
     "output_type": "display_data"
    },
    {
     "name": "stdout",
     "output_type": "stream",
     "text": [
      "Количество уникальных значений: 38 \n",
      "\n"
     ]
    },
    {
     "data": {
      "text/plain": [
       "fl    16295\n",
       "ca    14204\n",
       "pa    10744\n",
       "tx     8945\n",
       "ga     6862\n",
       "nj     5522\n",
       "il     4656\n",
       "oh     4230\n",
       "nc     4201\n",
       "tn     4075\n",
       "mo     3221\n",
       "mi     3017\n",
       "nv     2543\n",
       "va     2377\n",
       "md     2196\n",
       "wi     1921\n",
       "mn     1904\n",
       "az     1732\n",
       "co     1548\n",
       "wa     1481\n",
       "ma     1372\n",
       "ny     1130\n",
       "sc      893\n",
       "in      843\n",
       "ne      764\n",
       "on      714\n",
       "pr      542\n",
       "la      431\n",
       "ut      371\n",
       "ms      370\n",
       "hi      241\n",
       "qc      240\n",
       "or      220\n",
       "ab      190\n",
       "nm       41\n",
       "ok       12\n",
       "ns        9\n",
       "al        3\n",
       "Name: state, dtype: int64"
      ]
     },
     "metadata": {},
     "output_type": "display_data"
    },
    {
     "name": "stdout",
     "output_type": "stream",
     "text": [
      "Количество уникальных значений после удаления пробелов: 38 \n",
      "\n",
      "\n",
      "Value counts in color:\n",
      "\n"
     ]
    },
    {
     "data": {
      "text/plain": [
       "black        22006\n",
       "white        20929\n",
       "silver       16360\n",
       "gray         16348\n",
       "blue         10180\n",
       "red           8385\n",
       "—             4948\n",
       "green         2270\n",
       "gold          2207\n",
       "beige         1826\n",
       "burgundy      1759\n",
       "brown         1300\n",
       "orange         407\n",
       "purple         284\n",
       "off-white      275\n",
       "yellow         274\n",
       "charcoal        84\n",
       "turquoise       49\n",
       "pink            10\n",
       "lime             1\n",
       "Name: color, dtype: int64"
      ]
     },
     "metadata": {},
     "output_type": "display_data"
    },
    {
     "name": "stdout",
     "output_type": "stream",
     "text": [
      "Количество уникальных значений: 21 \n",
      "\n"
     ]
    },
    {
     "data": {
      "text/plain": [
       "black        22006\n",
       "white        20929\n",
       "silver       16360\n",
       "gray         16348\n",
       "blue         10180\n",
       "red           8385\n",
       "—             4948\n",
       "green         2270\n",
       "gold          2207\n",
       "beige         1826\n",
       "burgundy      1759\n",
       "brown         1300\n",
       "orange         407\n",
       "purple         284\n",
       "off-white      275\n",
       "yellow         274\n",
       "charcoal        84\n",
       "turquoise       49\n",
       "pink            10\n",
       "lime             1\n",
       "Name: color, dtype: int64"
      ]
     },
     "metadata": {},
     "output_type": "display_data"
    },
    {
     "name": "stdout",
     "output_type": "stream",
     "text": [
      "Количество уникальных значений после удаления пробелов: 21 \n",
      "\n",
      "\n",
      "Value counts in interior:\n",
      "\n"
     ]
    },
    {
     "data": {
      "text/plain": [
       "black        48176\n",
       "gray         34986\n",
       "beige        11931\n",
       "tan           8658\n",
       "—             3380\n",
       "brown         1664\n",
       "red            264\n",
       "blue           241\n",
       "silver         225\n",
       "off-white      107\n",
       "gold            64\n",
       "purple          58\n",
       "green           44\n",
       "burgundy        34\n",
       "orange          33\n",
       "white           33\n",
       "yellow           4\n",
       "Name: interior, dtype: int64"
      ]
     },
     "metadata": {},
     "output_type": "display_data"
    },
    {
     "name": "stdout",
     "output_type": "stream",
     "text": [
      "Количество уникальных значений: 18 \n",
      "\n"
     ]
    },
    {
     "data": {
      "text/plain": [
       "black        48176\n",
       "gray         34986\n",
       "beige        11931\n",
       "tan           8658\n",
       "—             3380\n",
       "brown         1664\n",
       "red            264\n",
       "blue           241\n",
       "silver         225\n",
       "off-white      107\n",
       "gold            64\n",
       "purple          58\n",
       "green           44\n",
       "burgundy        34\n",
       "orange          33\n",
       "white           33\n",
       "yellow           4\n",
       "Name: interior, dtype: int64"
      ]
     },
     "metadata": {},
     "output_type": "display_data"
    },
    {
     "name": "stdout",
     "output_type": "stream",
     "text": [
      "Количество уникальных значений после удаления пробелов: 18 \n",
      "\n",
      "\n",
      "Value counts in seller:\n",
      "\n"
     ]
    },
    {
     "data": {
      "text/plain": [
       "ford motor credit company,llc    3858\n",
       "nissan-infiniti lt               3852\n",
       "the hertz corporation            3592\n",
       "santander consumer               3043\n",
       "avis corporation                 2430\n",
       "                                 ... \n",
       "quinn motors of ellsworth           1\n",
       "ron tonkin honda                    1\n",
       "lewis motors                        1\n",
       "titlemax/henderson nv3              1\n",
       "autonation nissan dallas            1\n",
       "Name: seller, Length: 7623, dtype: int64"
      ]
     },
     "metadata": {},
     "output_type": "display_data"
    },
    {
     "name": "stdout",
     "output_type": "stream",
     "text": [
      "Количество уникальных значений: 7623 \n",
      "\n"
     ]
    },
    {
     "data": {
      "text/plain": [
       "ford motor credit company,llc    3858\n",
       "nissan-infiniti lt               3852\n",
       "the hertz corporation            3592\n",
       "santander consumer               3043\n",
       "avis corporation                 2430\n",
       "                                 ... \n",
       "quinn motors of ellsworth           1\n",
       "ron tonkin honda                    1\n",
       "lewis motors                        1\n",
       "titlemax/henderson nv3              1\n",
       "autonation nissan dallas            1\n",
       "Name: seller, Length: 7623, dtype: int64"
      ]
     },
     "metadata": {},
     "output_type": "display_data"
    },
    {
     "name": "stdout",
     "output_type": "stream",
     "text": [
      "Количество уникальных значений после удаления пробелов: 7623 \n",
      "\n",
      "\n",
      "Value counts in saledate:\n",
      "\n"
     ]
    },
    {
     "data": {
      "text/plain": [
       "Tue Feb 17 2015 01:30:00 GMT-0800 (PST)    1039\n",
       "Tue Feb 10 2015 01:30:00 GMT-0800 (PST)    1005\n",
       "Tue Jan 27 2015 01:30:00 GMT-0800 (PST)     949\n",
       "Tue Feb 03 2015 01:30:00 GMT-0800 (PST)     925\n",
       "Tue Jan 20 2015 01:30:00 GMT-0800 (PST)     892\n",
       "                                           ... \n",
       "Wed Feb 25 2015 08:32:00 GMT-0800 (PST)       1\n",
       "Tue Jun 02 2015 02:45:00 GMT-0700 (PDT)       1\n",
       "Wed Feb 18 2015 08:45:00 GMT-0800 (PST)       1\n",
       "Thu Jul 09 2015 08:00:00 GMT-0700 (PDT)       1\n",
       "Tue Mar 10 2015 09:00:00 GMT-0700 (PDT)       1\n",
       "Name: saledate, Length: 2817, dtype: int64"
      ]
     },
     "metadata": {},
     "output_type": "display_data"
    },
    {
     "name": "stdout",
     "output_type": "stream",
     "text": [
      "Количество уникальных значений: 2817 \n",
      "\n"
     ]
    },
    {
     "data": {
      "text/plain": [
       "Tue Feb 17 2015 01:30:00 GMT-0800 (PST)    1039\n",
       "Tue Feb 10 2015 01:30:00 GMT-0800 (PST)    1005\n",
       "Tue Jan 27 2015 01:30:00 GMT-0800 (PST)     949\n",
       "Tue Feb 03 2015 01:30:00 GMT-0800 (PST)     925\n",
       "Tue Jan 20 2015 01:30:00 GMT-0800 (PST)     892\n",
       "                                           ... \n",
       "Wed Feb 25 2015 08:32:00 GMT-0800 (PST)       1\n",
       "Tue Jun 02 2015 02:45:00 GMT-0700 (PDT)       1\n",
       "Wed Feb 18 2015 08:45:00 GMT-0800 (PST)       1\n",
       "Thu Jul 09 2015 08:00:00 GMT-0700 (PDT)       1\n",
       "Tue Mar 10 2015 09:00:00 GMT-0700 (PDT)       1\n",
       "Name: saledate, Length: 2817, dtype: int64"
      ]
     },
     "metadata": {},
     "output_type": "display_data"
    },
    {
     "name": "stdout",
     "output_type": "stream",
     "text": [
      "Количество уникальных значений после удаления пробелов: 2817 \n",
      "\n",
      "\n",
      "Value counts in year:\n",
      "\n"
     ]
    },
    {
     "data": {
      "text/plain": [
       "2012    20245\n",
       "2013    19431\n",
       "2014    16079\n",
       "2011     9530\n",
       "2008     6104\n",
       "2007     5985\n",
       "2006     5238\n",
       "2010     5219\n",
       "2005     4242\n",
       "2009     4036\n",
       "2004     3418\n",
       "2003     2598\n",
       "2015     1889\n",
       "2002     1888\n",
       "2001     1283\n",
       "2000     1026\n",
       "1999      673\n",
       "1998      388\n",
       "1997      313\n",
       "1996      167\n",
       "1995      137\n",
       "1994       73\n",
       "1993       37\n",
       "1992       26\n",
       "1991       11\n",
       "1990       11\n",
       "1989        5\n",
       "1986        3\n",
       "1987        3\n",
       "1982        1\n",
       "1984        1\n",
       "Name: year, dtype: int64"
      ]
     },
     "metadata": {},
     "output_type": "display_data"
    },
    {
     "name": "stdout",
     "output_type": "stream",
     "text": [
      "Количество уникальных значений: 31 \n",
      "\n",
      "\n",
      "Value counts in sellingprice:\n",
      "\n",
      "\n",
      "Value counts in condition:\n",
      "\n"
     ]
    },
    {
     "data": {
      "text/plain": [
       "1.9    8429\n",
       "3.5    5233\n",
       "4.4    5096\n",
       "3.7    5066\n",
       "4.3    4832\n",
       "4.2    4631\n",
       "3.6    4574\n",
       "4.1    4553\n",
       "2.0    4117\n",
       "3.9    3995\n",
       "4.0    3921\n",
       "2.8    3864\n",
       "2.9    3810\n",
       "3.8    3669\n",
       "3.4    3422\n",
       "2.7    3235\n",
       "4.9    2626\n",
       "4.6    2557\n",
       "4.8    2521\n",
       "4.5    2463\n",
       "2.5    2444\n",
       "2.6    2290\n",
       "5.0    2218\n",
       "3.0    2194\n",
       "4.7    2152\n",
       "3.3    1976\n",
       "3.2    1919\n",
       "3.1    1791\n",
       "2.1    1782\n",
       "2.4    1780\n",
       "2.3    1603\n",
       "1.0    1469\n",
       "2.2    1199\n",
       "1.8      69\n",
       "1.6      43\n",
       "1.7      42\n",
       "1.4      29\n",
       "1.2      21\n",
       "1.5      20\n",
       "1.1      13\n",
       "1.3      13\n",
       "Name: condition, dtype: int64"
      ]
     },
     "metadata": {},
     "output_type": "display_data"
    },
    {
     "name": "stdout",
     "output_type": "stream",
     "text": [
      "Количество уникальных значений: 42 \n",
      "\n",
      "\n",
      "Value counts in odometer:\n",
      "\n"
     ]
    },
    {
     "data": {
      "text/plain": [
       "1.0         246\n",
       "999999.0     17\n",
       "14452.0       8\n",
       "48473.0       8\n",
       "29346.0       7\n",
       "           ... \n",
       "89555.0       1\n",
       "9027.0        1\n",
       "67840.0       1\n",
       "338268.0      1\n",
       "124036.0      1\n",
       "Name: odometer, Length: 77206, dtype: int64"
      ]
     },
     "metadata": {},
     "output_type": "display_data"
    },
    {
     "name": "stdout",
     "output_type": "stream",
     "text": [
      "Количество уникальных значений: 77207 \n",
      "\n"
     ]
    }
   ],
   "source": [
    "get_info(data_test)"
   ]
  },
  {
   "cell_type": "markdown",
   "metadata": {},
   "source": [
    "Видим, что есть пропуски в данных. Также в колонке `saledate` некорректный формат даты, изменим его ниже. "
   ]
  },
  {
   "cell_type": "code",
   "execution_count": 61,
   "metadata": {
    "tags": []
   },
   "outputs": [],
   "source": [
    "data_train['saledate'] = pd.to_numeric(pd.to_datetime(data_train['saledate'], utc=True))\n",
    "data_test['saledate'] = pd.to_numeric(pd.to_datetime(data_test['saledate'], utc=True))"
   ]
  },
  {
   "cell_type": "markdown",
   "metadata": {},
   "source": [
    "#### Обработка дубликатов"
   ]
  },
  {
   "cell_type": "markdown",
   "metadata": {},
   "source": [
    "В категориальных колонках данные могут повторять. Приведем все данные в нижний регистр для удобства работы, затем просмотрим уникальные значения и уберем неявные дубликаты с помощью словаря и replace()."
   ]
  },
  {
   "cell_type": "code",
   "execution_count": 62,
   "metadata": {
    "tags": []
   },
   "outputs": [],
   "source": [
    "#для удобства создадим простую функцию по приведению в нижний регистр\n",
    "def str_lower(data, columns):\n",
    "    for column in columns:\n",
    "        data[column] = data[column].str.lower()"
   ]
  },
  {
   "cell_type": "code",
   "execution_count": 63,
   "metadata": {
    "tags": []
   },
   "outputs": [],
   "source": [
    "#применим функцию к данным\n",
    "str_lower(data_train, ['make', 'model', 'trim', 'body'])\n",
    "str_lower(data_test, ['make', 'model', 'trim', 'body'])"
   ]
  },
  {
   "cell_type": "code",
   "execution_count": 64,
   "metadata": {
    "tags": []
   },
   "outputs": [],
   "source": [
    "#далее пройдемся по всем колонкам и по возможности уберем все неявные дубликаты с помощью словаря и replace\n",
    "make_dict = {'landrover': 'land rover',\n",
    "             'mercedes': 'mercedes-benz',\n",
    "             'mercedes-b': 'mercedes-benz',\n",
    "             'vw': 'volkswagen'}\n",
    "\n",
    "data_train['make'].replace(make_dict, inplace=True)\n",
    "data_test['make'].replace(make_dict, inplace=True)"
   ]
  },
  {
   "cell_type": "code",
   "execution_count": 65,
   "metadata": {
    "tags": []
   },
   "outputs": [],
   "source": [
    "model_dict = {'ridgelin': 'ridgeline',\n",
    "             'rangerover': 'range rover',\n",
    "             'uplandr': 'uplander',\n",
    "             'twn&country': 'town&country',\n",
    "             'twn/cntry': 'town&country'}\n",
    "data_train['model'].replace(model_dict, inplace=True)\n",
    "data_test['model'].replace(model_dict, inplace=True)"
   ]
  },
  {
   "cell_type": "code",
   "execution_count": 66,
   "metadata": {
    "tags": []
   },
   "outputs": [],
   "source": [
    "body_dict = {'regular-cab': 'regular cab'}\n",
    "data_train['body'].replace(body_dict, inplace=True)\n",
    "data_test['body'].replace(body_dict, inplace=True)"
   ]
  },
  {
   "cell_type": "markdown",
   "metadata": {},
   "source": [
    "В колонке `trim` много уникальных значений, оставим их. Ранее мы проработали эту колонку в обучающей выборке, убрав лишние пробелы и приведя значения в нижний регистр. Этого достаточно для  обработки основного объема неявных дубликатов.\n",
    "В тестовой выборке лишних пробелов не было, там мы ограничились приведением к нижнему регистру."
   ]
  },
  {
   "cell_type": "code",
   "execution_count": 67,
   "metadata": {
    "tags": []
   },
   "outputs": [],
   "source": [
    "#создадим функцию, которая покажет количество пропусков в каждой колонке и ее процентное соотношение ко всем данным\n",
    "def find_missing_data(data):\n",
    "    total_na = data.isnull().sum().sort_values(ascending=False)\n",
    "    percent_na = (data.isnull().sum()/data.isnull().count()).sort_values(ascending=False)\n",
    "    missing_data = pd.concat([total_na, percent_na], axis=1, keys=['Total', 'Percent'])\n",
    "    display(missing_data)"
   ]
  },
  {
   "cell_type": "code",
   "execution_count": 68,
   "metadata": {
    "tags": []
   },
   "outputs": [
    {
     "data": {
      "text/html": [
       "<div>\n",
       "<style scoped>\n",
       "    .dataframe tbody tr th:only-of-type {\n",
       "        vertical-align: middle;\n",
       "    }\n",
       "\n",
       "    .dataframe tbody tr th {\n",
       "        vertical-align: top;\n",
       "    }\n",
       "\n",
       "    .dataframe thead th {\n",
       "        text-align: right;\n",
       "    }\n",
       "</style>\n",
       "<table border=\"1\" class=\"dataframe\">\n",
       "  <thead>\n",
       "    <tr style=\"text-align: right;\">\n",
       "      <th></th>\n",
       "      <th>Total</th>\n",
       "      <th>Percent</th>\n",
       "    </tr>\n",
       "  </thead>\n",
       "  <tbody>\n",
       "    <tr>\n",
       "      <th>transmission</th>\n",
       "      <td>51461</td>\n",
       "      <td>0.116894</td>\n",
       "    </tr>\n",
       "    <tr>\n",
       "      <th>body</th>\n",
       "      <td>10393</td>\n",
       "      <td>0.023608</td>\n",
       "    </tr>\n",
       "    <tr>\n",
       "      <th>condition</th>\n",
       "      <td>9405</td>\n",
       "      <td>0.021364</td>\n",
       "    </tr>\n",
       "    <tr>\n",
       "      <th>trim</th>\n",
       "      <td>8337</td>\n",
       "      <td>0.018938</td>\n",
       "    </tr>\n",
       "    <tr>\n",
       "      <th>model</th>\n",
       "      <td>8123</td>\n",
       "      <td>0.018451</td>\n",
       "    </tr>\n",
       "    <tr>\n",
       "      <th>make</th>\n",
       "      <td>8043</td>\n",
       "      <td>0.018270</td>\n",
       "    </tr>\n",
       "    <tr>\n",
       "      <th>color</th>\n",
       "      <td>586</td>\n",
       "      <td>0.001331</td>\n",
       "    </tr>\n",
       "    <tr>\n",
       "      <th>interior</th>\n",
       "      <td>586</td>\n",
       "      <td>0.001331</td>\n",
       "    </tr>\n",
       "    <tr>\n",
       "      <th>odometer</th>\n",
       "      <td>69</td>\n",
       "      <td>0.000157</td>\n",
       "    </tr>\n",
       "    <tr>\n",
       "      <th>year</th>\n",
       "      <td>0</td>\n",
       "      <td>0.000000</td>\n",
       "    </tr>\n",
       "    <tr>\n",
       "      <th>vin</th>\n",
       "      <td>0</td>\n",
       "      <td>0.000000</td>\n",
       "    </tr>\n",
       "    <tr>\n",
       "      <th>state</th>\n",
       "      <td>0</td>\n",
       "      <td>0.000000</td>\n",
       "    </tr>\n",
       "    <tr>\n",
       "      <th>seller</th>\n",
       "      <td>0</td>\n",
       "      <td>0.000000</td>\n",
       "    </tr>\n",
       "    <tr>\n",
       "      <th>sellingprice</th>\n",
       "      <td>0</td>\n",
       "      <td>0.000000</td>\n",
       "    </tr>\n",
       "    <tr>\n",
       "      <th>saledate</th>\n",
       "      <td>0</td>\n",
       "      <td>0.000000</td>\n",
       "    </tr>\n",
       "  </tbody>\n",
       "</table>\n",
       "</div>"
      ],
      "text/plain": [
       "              Total   Percent\n",
       "transmission  51461  0.116894\n",
       "body          10393  0.023608\n",
       "condition      9405  0.021364\n",
       "trim           8337  0.018938\n",
       "model          8123  0.018451\n",
       "make           8043  0.018270\n",
       "color           586  0.001331\n",
       "interior        586  0.001331\n",
       "odometer         69  0.000157\n",
       "year              0  0.000000\n",
       "vin               0  0.000000\n",
       "state             0  0.000000\n",
       "seller            0  0.000000\n",
       "sellingprice      0  0.000000\n",
       "saledate          0  0.000000"
      ]
     },
     "metadata": {},
     "output_type": "display_data"
    }
   ],
   "source": [
    "find_missing_data(data_train)"
   ]
  },
  {
   "cell_type": "code",
   "execution_count": 69,
   "metadata": {
    "tags": []
   },
   "outputs": [
    {
     "data": {
      "text/html": [
       "<div>\n",
       "<style scoped>\n",
       "    .dataframe tbody tr th:only-of-type {\n",
       "        vertical-align: middle;\n",
       "    }\n",
       "\n",
       "    .dataframe tbody tr th {\n",
       "        vertical-align: top;\n",
       "    }\n",
       "\n",
       "    .dataframe thead th {\n",
       "        text-align: right;\n",
       "    }\n",
       "</style>\n",
       "<table border=\"1\" class=\"dataframe\">\n",
       "  <thead>\n",
       "    <tr style=\"text-align: right;\">\n",
       "      <th></th>\n",
       "      <th>Total</th>\n",
       "      <th>Percent</th>\n",
       "    </tr>\n",
       "  </thead>\n",
       "  <tbody>\n",
       "    <tr>\n",
       "      <th>transmission</th>\n",
       "      <td>13012</td>\n",
       "      <td>0.118226</td>\n",
       "    </tr>\n",
       "    <tr>\n",
       "      <th>body</th>\n",
       "      <td>2594</td>\n",
       "      <td>0.023569</td>\n",
       "    </tr>\n",
       "    <tr>\n",
       "      <th>condition</th>\n",
       "      <td>2379</td>\n",
       "      <td>0.021615</td>\n",
       "    </tr>\n",
       "    <tr>\n",
       "      <th>trim</th>\n",
       "      <td>2114</td>\n",
       "      <td>0.019208</td>\n",
       "    </tr>\n",
       "    <tr>\n",
       "      <th>model</th>\n",
       "      <td>2079</td>\n",
       "      <td>0.018890</td>\n",
       "    </tr>\n",
       "    <tr>\n",
       "      <th>make</th>\n",
       "      <td>2061</td>\n",
       "      <td>0.018726</td>\n",
       "    </tr>\n",
       "    <tr>\n",
       "      <th>color</th>\n",
       "      <td>158</td>\n",
       "      <td>0.001436</td>\n",
       "    </tr>\n",
       "    <tr>\n",
       "      <th>interior</th>\n",
       "      <td>158</td>\n",
       "      <td>0.001436</td>\n",
       "    </tr>\n",
       "    <tr>\n",
       "      <th>odometer</th>\n",
       "      <td>19</td>\n",
       "      <td>0.000173</td>\n",
       "    </tr>\n",
       "    <tr>\n",
       "      <th>year</th>\n",
       "      <td>0</td>\n",
       "      <td>0.000000</td>\n",
       "    </tr>\n",
       "    <tr>\n",
       "      <th>vin</th>\n",
       "      <td>0</td>\n",
       "      <td>0.000000</td>\n",
       "    </tr>\n",
       "    <tr>\n",
       "      <th>state</th>\n",
       "      <td>0</td>\n",
       "      <td>0.000000</td>\n",
       "    </tr>\n",
       "    <tr>\n",
       "      <th>seller</th>\n",
       "      <td>0</td>\n",
       "      <td>0.000000</td>\n",
       "    </tr>\n",
       "    <tr>\n",
       "      <th>saledate</th>\n",
       "      <td>0</td>\n",
       "      <td>0.000000</td>\n",
       "    </tr>\n",
       "  </tbody>\n",
       "</table>\n",
       "</div>"
      ],
      "text/plain": [
       "              Total   Percent\n",
       "transmission  13012  0.118226\n",
       "body           2594  0.023569\n",
       "condition      2379  0.021615\n",
       "trim           2114  0.019208\n",
       "model          2079  0.018890\n",
       "make           2061  0.018726\n",
       "color           158  0.001436\n",
       "interior        158  0.001436\n",
       "odometer         19  0.000173\n",
       "year              0  0.000000\n",
       "vin               0  0.000000\n",
       "state             0  0.000000\n",
       "seller            0  0.000000\n",
       "saledate          0  0.000000"
      ]
     },
     "metadata": {},
     "output_type": "display_data"
    }
   ],
   "source": [
    "find_missing_data(data_test)"
   ]
  },
  {
   "cell_type": "markdown",
   "metadata": {},
   "source": [
    "Наибольший процент пропусков как в обучающей, так и в тестовой выборке в колонке `transmission`. Обработаем пропуски с помощью imputer для категориальных признаков, для количественных - заполним медианным значением."
   ]
  },
  {
   "cell_type": "code",
   "execution_count": 70,
   "metadata": {},
   "outputs": [],
   "source": [
    "from sklearn.impute import SimpleImputer\n",
    "\n",
    "def replace_most_frequent(data):\n",
    "    imputer = SimpleImputer(strategy='most_frequent')\n",
    "    for column in object_columns:\n",
    "        imputed_column = imputer.fit_transform(data[[column]])\n",
    "        data[column] = imputed_column\n",
    "\n",
    "replace_most_frequent(data_train)\n",
    "replace_most_frequent(data_test)"
   ]
  },
  {
   "cell_type": "code",
   "execution_count": 71,
   "metadata": {
    "tags": []
   },
   "outputs": [],
   "source": [
    "def replace_with_median(data, columns):\n",
    "    for column in columns:\n",
    "        data.loc[data[column].isna(), column] = data[column].median()"
   ]
  },
  {
   "cell_type": "code",
   "execution_count": 72,
   "metadata": {
    "tags": []
   },
   "outputs": [],
   "source": [
    "replace_with_median(data_train, ['condition', 'odometer'])\n",
    "replace_with_median(data_test, ['condition', 'odometer'])"
   ]
  },
  {
   "cell_type": "code",
   "execution_count": 73,
   "metadata": {},
   "outputs": [
    {
     "data": {
      "text/html": [
       "<div>\n",
       "<style scoped>\n",
       "    .dataframe tbody tr th:only-of-type {\n",
       "        vertical-align: middle;\n",
       "    }\n",
       "\n",
       "    .dataframe tbody tr th {\n",
       "        vertical-align: top;\n",
       "    }\n",
       "\n",
       "    .dataframe thead th {\n",
       "        text-align: right;\n",
       "    }\n",
       "</style>\n",
       "<table border=\"1\" class=\"dataframe\">\n",
       "  <thead>\n",
       "    <tr style=\"text-align: right;\">\n",
       "      <th></th>\n",
       "      <th>Total</th>\n",
       "      <th>Percent</th>\n",
       "    </tr>\n",
       "  </thead>\n",
       "  <tbody>\n",
       "    <tr>\n",
       "      <th>year</th>\n",
       "      <td>0</td>\n",
       "      <td>0.0</td>\n",
       "    </tr>\n",
       "    <tr>\n",
       "      <th>make</th>\n",
       "      <td>0</td>\n",
       "      <td>0.0</td>\n",
       "    </tr>\n",
       "    <tr>\n",
       "      <th>model</th>\n",
       "      <td>0</td>\n",
       "      <td>0.0</td>\n",
       "    </tr>\n",
       "    <tr>\n",
       "      <th>trim</th>\n",
       "      <td>0</td>\n",
       "      <td>0.0</td>\n",
       "    </tr>\n",
       "    <tr>\n",
       "      <th>body</th>\n",
       "      <td>0</td>\n",
       "      <td>0.0</td>\n",
       "    </tr>\n",
       "    <tr>\n",
       "      <th>transmission</th>\n",
       "      <td>0</td>\n",
       "      <td>0.0</td>\n",
       "    </tr>\n",
       "    <tr>\n",
       "      <th>vin</th>\n",
       "      <td>0</td>\n",
       "      <td>0.0</td>\n",
       "    </tr>\n",
       "    <tr>\n",
       "      <th>state</th>\n",
       "      <td>0</td>\n",
       "      <td>0.0</td>\n",
       "    </tr>\n",
       "    <tr>\n",
       "      <th>condition</th>\n",
       "      <td>0</td>\n",
       "      <td>0.0</td>\n",
       "    </tr>\n",
       "    <tr>\n",
       "      <th>odometer</th>\n",
       "      <td>0</td>\n",
       "      <td>0.0</td>\n",
       "    </tr>\n",
       "    <tr>\n",
       "      <th>color</th>\n",
       "      <td>0</td>\n",
       "      <td>0.0</td>\n",
       "    </tr>\n",
       "    <tr>\n",
       "      <th>interior</th>\n",
       "      <td>0</td>\n",
       "      <td>0.0</td>\n",
       "    </tr>\n",
       "    <tr>\n",
       "      <th>seller</th>\n",
       "      <td>0</td>\n",
       "      <td>0.0</td>\n",
       "    </tr>\n",
       "    <tr>\n",
       "      <th>sellingprice</th>\n",
       "      <td>0</td>\n",
       "      <td>0.0</td>\n",
       "    </tr>\n",
       "    <tr>\n",
       "      <th>saledate</th>\n",
       "      <td>0</td>\n",
       "      <td>0.0</td>\n",
       "    </tr>\n",
       "  </tbody>\n",
       "</table>\n",
       "</div>"
      ],
      "text/plain": [
       "              Total  Percent\n",
       "year              0      0.0\n",
       "make              0      0.0\n",
       "model             0      0.0\n",
       "trim              0      0.0\n",
       "body              0      0.0\n",
       "transmission      0      0.0\n",
       "vin               0      0.0\n",
       "state             0      0.0\n",
       "condition         0      0.0\n",
       "odometer          0      0.0\n",
       "color             0      0.0\n",
       "interior          0      0.0\n",
       "seller            0      0.0\n",
       "sellingprice      0      0.0\n",
       "saledate          0      0.0"
      ]
     },
     "metadata": {},
     "output_type": "display_data"
    },
    {
     "data": {
      "text/plain": [
       "None"
      ]
     },
     "metadata": {},
     "output_type": "display_data"
    },
    {
     "data": {
      "text/html": [
       "<div>\n",
       "<style scoped>\n",
       "    .dataframe tbody tr th:only-of-type {\n",
       "        vertical-align: middle;\n",
       "    }\n",
       "\n",
       "    .dataframe tbody tr th {\n",
       "        vertical-align: top;\n",
       "    }\n",
       "\n",
       "    .dataframe thead th {\n",
       "        text-align: right;\n",
       "    }\n",
       "</style>\n",
       "<table border=\"1\" class=\"dataframe\">\n",
       "  <thead>\n",
       "    <tr style=\"text-align: right;\">\n",
       "      <th></th>\n",
       "      <th>Total</th>\n",
       "      <th>Percent</th>\n",
       "    </tr>\n",
       "  </thead>\n",
       "  <tbody>\n",
       "    <tr>\n",
       "      <th>year</th>\n",
       "      <td>0</td>\n",
       "      <td>0.0</td>\n",
       "    </tr>\n",
       "    <tr>\n",
       "      <th>make</th>\n",
       "      <td>0</td>\n",
       "      <td>0.0</td>\n",
       "    </tr>\n",
       "    <tr>\n",
       "      <th>model</th>\n",
       "      <td>0</td>\n",
       "      <td>0.0</td>\n",
       "    </tr>\n",
       "    <tr>\n",
       "      <th>trim</th>\n",
       "      <td>0</td>\n",
       "      <td>0.0</td>\n",
       "    </tr>\n",
       "    <tr>\n",
       "      <th>body</th>\n",
       "      <td>0</td>\n",
       "      <td>0.0</td>\n",
       "    </tr>\n",
       "    <tr>\n",
       "      <th>transmission</th>\n",
       "      <td>0</td>\n",
       "      <td>0.0</td>\n",
       "    </tr>\n",
       "    <tr>\n",
       "      <th>vin</th>\n",
       "      <td>0</td>\n",
       "      <td>0.0</td>\n",
       "    </tr>\n",
       "    <tr>\n",
       "      <th>state</th>\n",
       "      <td>0</td>\n",
       "      <td>0.0</td>\n",
       "    </tr>\n",
       "    <tr>\n",
       "      <th>condition</th>\n",
       "      <td>0</td>\n",
       "      <td>0.0</td>\n",
       "    </tr>\n",
       "    <tr>\n",
       "      <th>odometer</th>\n",
       "      <td>0</td>\n",
       "      <td>0.0</td>\n",
       "    </tr>\n",
       "    <tr>\n",
       "      <th>color</th>\n",
       "      <td>0</td>\n",
       "      <td>0.0</td>\n",
       "    </tr>\n",
       "    <tr>\n",
       "      <th>interior</th>\n",
       "      <td>0</td>\n",
       "      <td>0.0</td>\n",
       "    </tr>\n",
       "    <tr>\n",
       "      <th>seller</th>\n",
       "      <td>0</td>\n",
       "      <td>0.0</td>\n",
       "    </tr>\n",
       "    <tr>\n",
       "      <th>saledate</th>\n",
       "      <td>0</td>\n",
       "      <td>0.0</td>\n",
       "    </tr>\n",
       "  </tbody>\n",
       "</table>\n",
       "</div>"
      ],
      "text/plain": [
       "              Total  Percent\n",
       "year              0      0.0\n",
       "make              0      0.0\n",
       "model             0      0.0\n",
       "trim              0      0.0\n",
       "body              0      0.0\n",
       "transmission      0      0.0\n",
       "vin               0      0.0\n",
       "state             0      0.0\n",
       "condition         0      0.0\n",
       "odometer          0      0.0\n",
       "color             0      0.0\n",
       "interior          0      0.0\n",
       "seller            0      0.0\n",
       "saledate          0      0.0"
      ]
     },
     "metadata": {},
     "output_type": "display_data"
    },
    {
     "data": {
      "text/plain": [
       "None"
      ]
     },
     "metadata": {},
     "output_type": "display_data"
    }
   ],
   "source": [
    "#убедимся, что пропусков нет\n",
    "display(find_missing_data(data_train))\n",
    "display(find_missing_data(data_test))"
   ]
  },
  {
   "cell_type": "markdown",
   "metadata": {},
   "source": [
    "#### Корреляция данных"
   ]
  },
  {
   "cell_type": "markdown",
   "metadata": {},
   "source": [
    "Рассмотрим как данные соотносятся друг c другом, есть ли зависимости."
   ]
  },
  {
   "cell_type": "code",
   "execution_count": 74,
   "metadata": {
    "tags": []
   },
   "outputs": [],
   "source": [
    "def data_corr_describe(data):\n",
    "    print(\"\\nМетод describe:\")\n",
    "    display(data.describe())\n",
    "    print(\"\\nHeatmap корреляции:\\n\")\n",
    "    plt.figure(figsize=(5, 5))\n",
    "    sns.set(font_scale=1.0)\n",
    "    sns.heatmap(data.corr(), annot=True, cmap=\"Blues\", fmt=\".1f\", linewidth=.5);\n",
    "    plt.tight_layout()\n",
    "    plt.show()\n",
    "    plt.figure(figsize=(5, 5))\n",
    "    sns.set(font_scale=1.0)\n",
    "    try:\n",
    "        sns.heatmap(data[data.columns[1:]].corr()['sellingprice'][:].sort_values(ascending=False).to_frame(), cmap=\"Blues\", annot=True, fmt=\".3f\", linewidth=.5);\n",
    "    except:\n",
    "        pass\n",
    "    plt.show()\n",
    "    data.hist(figsize=(15,15)); #выведем данные в виде гистограммы для наглядности"
   ]
  },
  {
   "cell_type": "code",
   "execution_count": 75,
   "metadata": {
    "tags": []
   },
   "outputs": [
    {
     "name": "stdout",
     "output_type": "stream",
     "text": [
      "\n",
      "Метод describe:\n"
     ]
    },
    {
     "data": {
      "text/html": [
       "<div>\n",
       "<style scoped>\n",
       "    .dataframe tbody tr th:only-of-type {\n",
       "        vertical-align: middle;\n",
       "    }\n",
       "\n",
       "    .dataframe tbody tr th {\n",
       "        vertical-align: top;\n",
       "    }\n",
       "\n",
       "    .dataframe thead th {\n",
       "        text-align: right;\n",
       "    }\n",
       "</style>\n",
       "<table border=\"1\" class=\"dataframe\">\n",
       "  <thead>\n",
       "    <tr style=\"text-align: right;\">\n",
       "      <th></th>\n",
       "      <th>year</th>\n",
       "      <th>condition</th>\n",
       "      <th>odometer</th>\n",
       "      <th>sellingprice</th>\n",
       "      <th>saledate</th>\n",
       "    </tr>\n",
       "  </thead>\n",
       "  <tbody>\n",
       "    <tr>\n",
       "      <th>count</th>\n",
       "      <td>440236.000000</td>\n",
       "      <td>440236.000000</td>\n",
       "      <td>440236.000000</td>\n",
       "      <td>440236.000000</td>\n",
       "      <td>4.402360e+05</td>\n",
       "    </tr>\n",
       "    <tr>\n",
       "      <th>mean</th>\n",
       "      <td>2010.040101</td>\n",
       "      <td>3.428814</td>\n",
       "      <td>68341.875235</td>\n",
       "      <td>13592.209588</td>\n",
       "      <td>1.425600e+18</td>\n",
       "    </tr>\n",
       "    <tr>\n",
       "      <th>std</th>\n",
       "      <td>3.977945</td>\n",
       "      <td>0.940111</td>\n",
       "      <td>53538.394083</td>\n",
       "      <td>9751.479098</td>\n",
       "      <td>5.185855e+15</td>\n",
       "    </tr>\n",
       "    <tr>\n",
       "      <th>min</th>\n",
       "      <td>1982.000000</td>\n",
       "      <td>1.000000</td>\n",
       "      <td>1.000000</td>\n",
       "      <td>1.000000</td>\n",
       "      <td>1.388539e+18</td>\n",
       "    </tr>\n",
       "    <tr>\n",
       "      <th>25%</th>\n",
       "      <td>2007.000000</td>\n",
       "      <td>2.700000</td>\n",
       "      <td>28260.000000</td>\n",
       "      <td>6900.000000</td>\n",
       "      <td>1.421777e+18</td>\n",
       "    </tr>\n",
       "    <tr>\n",
       "      <th>50%</th>\n",
       "      <td>2012.000000</td>\n",
       "      <td>3.600000</td>\n",
       "      <td>52098.000000</td>\n",
       "      <td>12100.000000</td>\n",
       "      <td>1.423761e+18</td>\n",
       "    </tr>\n",
       "    <tr>\n",
       "      <th>75%</th>\n",
       "      <td>2013.000000</td>\n",
       "      <td>4.200000</td>\n",
       "      <td>99266.000000</td>\n",
       "      <td>18200.000000</td>\n",
       "      <td>1.432235e+18</td>\n",
       "    </tr>\n",
       "    <tr>\n",
       "      <th>max</th>\n",
       "      <td>2015.000000</td>\n",
       "      <td>5.000000</td>\n",
       "      <td>999999.000000</td>\n",
       "      <td>230000.000000</td>\n",
       "      <td>1.437421e+18</td>\n",
       "    </tr>\n",
       "  </tbody>\n",
       "</table>\n",
       "</div>"
      ],
      "text/plain": [
       "                year      condition       odometer   sellingprice  \\\n",
       "count  440236.000000  440236.000000  440236.000000  440236.000000   \n",
       "mean     2010.040101       3.428814   68341.875235   13592.209588   \n",
       "std         3.977945       0.940111   53538.394083    9751.479098   \n",
       "min      1982.000000       1.000000       1.000000       1.000000   \n",
       "25%      2007.000000       2.700000   28260.000000    6900.000000   \n",
       "50%      2012.000000       3.600000   52098.000000   12100.000000   \n",
       "75%      2013.000000       4.200000   99266.000000   18200.000000   \n",
       "max      2015.000000       5.000000  999999.000000  230000.000000   \n",
       "\n",
       "           saledate  \n",
       "count  4.402360e+05  \n",
       "mean   1.425600e+18  \n",
       "std    5.185855e+15  \n",
       "min    1.388539e+18  \n",
       "25%    1.421777e+18  \n",
       "50%    1.423761e+18  \n",
       "75%    1.432235e+18  \n",
       "max    1.437421e+18  "
      ]
     },
     "metadata": {},
     "output_type": "display_data"
    },
    {
     "name": "stdout",
     "output_type": "stream",
     "text": [
      "\n",
      "Heatmap корреляции:\n",
      "\n"
     ]
    },
    {
     "data": {
      "image/png": "[encoded data removed]",
      "text/plain": [
       "<Figure size 500x500 with 2 Axes>"
      ]
     },
     "metadata": {},
     "output_type": "display_data"
    },
    {
     "data": {
      "image/png": "[encoded data removed]",
      "text/plain": [
       "<Figure size 500x500 with 2 Axes>"
      ]
     },
     "metadata": {},
     "output_type": "display_data"
    },
    {
     "data": {
      "image/png": "[encoded data removed]",
      "text/plain": [
       "<Figure size 1500x1500 with 6 Axes>"
      ]
     },
     "metadata": {},
     "output_type": "display_data"
    }
   ],
   "source": [
    "data_corr_describe(data_train)"
   ]
  },
  {
   "cell_type": "code",
   "execution_count": 76,
   "metadata": {
    "tags": []
   },
   "outputs": [
    {
     "name": "stdout",
     "output_type": "stream",
     "text": [
      "\n",
      "Метод describe:\n"
     ]
    },
    {
     "data": {
      "text/html": [
       "<div>\n",
       "<style scoped>\n",
       "    .dataframe tbody tr th:only-of-type {\n",
       "        vertical-align: middle;\n",
       "    }\n",
       "\n",
       "    .dataframe tbody tr th {\n",
       "        vertical-align: top;\n",
       "    }\n",
       "\n",
       "    .dataframe thead th {\n",
       "        text-align: right;\n",
       "    }\n",
       "</style>\n",
       "<table border=\"1\" class=\"dataframe\">\n",
       "  <thead>\n",
       "    <tr style=\"text-align: right;\">\n",
       "      <th></th>\n",
       "      <th>year</th>\n",
       "      <th>condition</th>\n",
       "      <th>odometer</th>\n",
       "      <th>saledate</th>\n",
       "    </tr>\n",
       "  </thead>\n",
       "  <tbody>\n",
       "    <tr>\n",
       "      <th>count</th>\n",
       "      <td>110060.000000</td>\n",
       "      <td>110060.000000</td>\n",
       "      <td>110060.000000</td>\n",
       "      <td>1.100600e+05</td>\n",
       "    </tr>\n",
       "    <tr>\n",
       "      <th>mean</th>\n",
       "      <td>2010.059904</td>\n",
       "      <td>3.427027</td>\n",
       "      <td>68072.904879</td>\n",
       "      <td>1.425588e+18</td>\n",
       "    </tr>\n",
       "    <tr>\n",
       "      <th>std</th>\n",
       "      <td>3.960432</td>\n",
       "      <td>0.941336</td>\n",
       "      <td>53519.352409</td>\n",
       "      <td>5.175109e+15</td>\n",
       "    </tr>\n",
       "    <tr>\n",
       "      <th>min</th>\n",
       "      <td>1982.000000</td>\n",
       "      <td>1.000000</td>\n",
       "      <td>1.000000</td>\n",
       "      <td>1.388539e+18</td>\n",
       "    </tr>\n",
       "    <tr>\n",
       "      <th>25%</th>\n",
       "      <td>2007.000000</td>\n",
       "      <td>2.700000</td>\n",
       "      <td>28317.000000</td>\n",
       "      <td>1.421777e+18</td>\n",
       "    </tr>\n",
       "    <tr>\n",
       "      <th>50%</th>\n",
       "      <td>2012.000000</td>\n",
       "      <td>3.600000</td>\n",
       "      <td>51922.000000</td>\n",
       "      <td>1.423762e+18</td>\n",
       "    </tr>\n",
       "    <tr>\n",
       "      <th>75%</th>\n",
       "      <td>2013.000000</td>\n",
       "      <td>4.200000</td>\n",
       "      <td>98847.250000</td>\n",
       "      <td>1.432170e+18</td>\n",
       "    </tr>\n",
       "    <tr>\n",
       "      <th>max</th>\n",
       "      <td>2015.000000</td>\n",
       "      <td>5.000000</td>\n",
       "      <td>999999.000000</td>\n",
       "      <td>1.436830e+18</td>\n",
       "    </tr>\n",
       "  </tbody>\n",
       "</table>\n",
       "</div>"
      ],
      "text/plain": [
       "                year      condition       odometer      saledate\n",
       "count  110060.000000  110060.000000  110060.000000  1.100600e+05\n",
       "mean     2010.059904       3.427027   68072.904879  1.425588e+18\n",
       "std         3.960432       0.941336   53519.352409  5.175109e+15\n",
       "min      1982.000000       1.000000       1.000000  1.388539e+18\n",
       "25%      2007.000000       2.700000   28317.000000  1.421777e+18\n",
       "50%      2012.000000       3.600000   51922.000000  1.423762e+18\n",
       "75%      2013.000000       4.200000   98847.250000  1.432170e+18\n",
       "max      2015.000000       5.000000  999999.000000  1.436830e+18"
      ]
     },
     "metadata": {},
     "output_type": "display_data"
    },
    {
     "name": "stdout",
     "output_type": "stream",
     "text": [
      "\n",
      "Heatmap корреляции:\n",
      "\n"
     ]
    },
    {
     "data": {
      "image/png": "[encoded data removed]",
      "text/plain": [
       "<Figure size 500x500 with 2 Axes>"
      ]
     },
     "metadata": {},
     "output_type": "display_data"
    },
    {
     "data": {
      "text/plain": [
       "<Figure size 500x500 with 0 Axes>"
      ]
     },
     "metadata": {},
     "output_type": "display_data"
    },
    {
     "data": {
      "image/png": "[encoded data removed]",
      "text/plain": [
       "<Figure size 1500x1500 with 4 Axes>"
      ]
     },
     "metadata": {},
     "output_type": "display_data"
    }
   ],
   "source": [
    "data_corr_describe(data_test)"
   ]
  },
  {
   "cell_type": "code",
   "execution_count": 77,
   "metadata": {},
   "outputs": [
    {
     "data": {
      "text/plain": [
       "sellingprice    1.000000\n",
       "year            0.586847\n",
       "condition       0.529901\n",
       "saledate        0.086846\n",
       "odometer       -0.582933\n",
       "Name: sellingprice, dtype: float64"
      ]
     },
     "execution_count": 77,
     "metadata": {},
     "output_type": "execute_result"
    }
   ],
   "source": [
    "data_train.corr()['sellingprice'].sort_values(ascending=False)[0:20] "
   ]
  },
  {
   "cell_type": "markdown",
   "metadata": {},
   "source": [
    "Самая слабая корреляция у целевого признака с параметром 'saledate'. Тем не менее, оставим данный признак для обучения. Возможно, модель сможет увидеть скрытые зависимости.\n",
    "\n",
    "Также мы видим отрицательную корреляцию с пробегом. Чем он выше, тем цена ниже. Это поддается логике."
   ]
  },
  {
   "cell_type": "code",
   "execution_count": 78,
   "metadata": {},
   "outputs": [
    {
     "data": {
      "image/png": "[encoded data removed]",
      "text/plain": [
       "<Figure size 1800x600 with 1 Axes>"
      ]
     },
     "metadata": {},
     "output_type": "display_data"
    }
   ],
   "source": [
    "fig = plt.figure(figsize=(18,6))\n",
    "sns.boxplot(data=data_train[numeric_columns], orient=\"h\");\n",
    "plt.xticks(fontsize=14)\n",
    "plt.title('Box plot количественных признаков', fontsize=16);"
   ]
  },
  {
   "cell_type": "markdown",
   "metadata": {},
   "source": [
    "Большое количество выбросов мы видим в целевом признаке и в показателях пробега. По цене - вполне объяснимо, так как могут быть и дорогие автомобили. По пробегу - видим явные выбросы в районе 1 млн. Посмотрим подробнее на эти данные."
   ]
  },
  {
   "cell_type": "code",
   "execution_count": 79,
   "metadata": {},
   "outputs": [
    {
     "data": {
      "text/plain": [
       "55"
      ]
     },
     "execution_count": 79,
     "metadata": {},
     "output_type": "execute_result"
    }
   ],
   "source": [
    "data_train.loc[data_train['odometer'] == 999999]['odometer'].count()"
   ]
  },
  {
   "cell_type": "markdown",
   "metadata": {},
   "source": [
    "Таких записей немного, и, тем не менее, обработаем их, заменив медианным значением. Скорее всего, такое значение могли поставить, когда не знали истинного значения пробега автомобиля,"
   ]
  },
  {
   "cell_type": "code",
   "execution_count": 80,
   "metadata": {},
   "outputs": [],
   "source": [
    "data_train.loc[data_train['odometer'] == 999999, 'odometer'] = data_train['odometer'].median()"
   ]
  },
  {
   "cell_type": "code",
   "execution_count": 81,
   "metadata": {},
   "outputs": [
    {
     "data": {
      "text/plain": [
       "0"
      ]
     },
     "execution_count": 81,
     "metadata": {},
     "output_type": "execute_result"
    }
   ],
   "source": [
    "data_train.loc[data_train['odometer'] == 999999]['odometer'].count() #убедимся, что выбросы исчезли"
   ]
  },
  {
   "cell_type": "markdown",
   "metadata": {},
   "source": [
    "#### Подготовка выборок для обучения"
   ]
  },
  {
   "cell_type": "markdown",
   "metadata": {},
   "source": [
    "Для начала уберем из признаков колонку 'vin', которая полностью состоит из уникальных значений. Она бесполезна для модели. Также извлечем целевой признак из обучающей выборки.\n",
    "\n",
    "Затем воспользуемся кодировкой категориальных признаков и отмасштабируем количественные."
   ]
  },
  {
   "cell_type": "code",
   "execution_count": 82,
   "metadata": {
    "tags": []
   },
   "outputs": [
    {
     "data": {
      "text/plain": [
       "(440236, 13)"
      ]
     },
     "metadata": {},
     "output_type": "display_data"
    },
    {
     "data": {
      "text/plain": [
       "(440236,)"
      ]
     },
     "execution_count": 82,
     "metadata": {},
     "output_type": "execute_result"
    }
   ],
   "source": [
    "features_train = data_train.drop(['sellingprice', 'vin'], axis=1) # извлечем основные признаки\n",
    "target_train = data_train['sellingprice'] # извлечем целевой признак\n",
    "\n",
    "display(features_train.shape)\n",
    "target_train.shape"
   ]
  },
  {
   "cell_type": "code",
   "execution_count": 83,
   "metadata": {
    "tags": []
   },
   "outputs": [
    {
     "data": {
      "text/html": [
       "<div>\n",
       "<style scoped>\n",
       "    .dataframe tbody tr th:only-of-type {\n",
       "        vertical-align: middle;\n",
       "    }\n",
       "\n",
       "    .dataframe tbody tr th {\n",
       "        vertical-align: top;\n",
       "    }\n",
       "\n",
       "    .dataframe thead th {\n",
       "        text-align: right;\n",
       "    }\n",
       "</style>\n",
       "<table border=\"1\" class=\"dataframe\">\n",
       "  <thead>\n",
       "    <tr style=\"text-align: right;\">\n",
       "      <th></th>\n",
       "      <th>year</th>\n",
       "      <th>make</th>\n",
       "      <th>model</th>\n",
       "      <th>trim</th>\n",
       "      <th>body</th>\n",
       "      <th>transmission</th>\n",
       "      <th>state</th>\n",
       "      <th>condition</th>\n",
       "      <th>odometer</th>\n",
       "      <th>color</th>\n",
       "      <th>interior</th>\n",
       "      <th>seller</th>\n",
       "      <th>saledate</th>\n",
       "    </tr>\n",
       "  </thead>\n",
       "  <tbody>\n",
       "    <tr>\n",
       "      <th>0</th>\n",
       "      <td>2011</td>\n",
       "      <td>1</td>\n",
       "      <td>1</td>\n",
       "      <td>1</td>\n",
       "      <td>1</td>\n",
       "      <td>1</td>\n",
       "      <td>1</td>\n",
       "      <td>4.2</td>\n",
       "      <td>111041.0</td>\n",
       "      <td>1</td>\n",
       "      <td>1</td>\n",
       "      <td>1</td>\n",
       "      <td>1</td>\n",
       "    </tr>\n",
       "    <tr>\n",
       "      <th>1</th>\n",
       "      <td>2014</td>\n",
       "      <td>1</td>\n",
       "      <td>2</td>\n",
       "      <td>2</td>\n",
       "      <td>2</td>\n",
       "      <td>1</td>\n",
       "      <td>2</td>\n",
       "      <td>3.5</td>\n",
       "      <td>31034.0</td>\n",
       "      <td>1</td>\n",
       "      <td>1</td>\n",
       "      <td>2</td>\n",
       "      <td>2</td>\n",
       "    </tr>\n",
       "    <tr>\n",
       "      <th>2</th>\n",
       "      <td>2012</td>\n",
       "      <td>2</td>\n",
       "      <td>3</td>\n",
       "      <td>3</td>\n",
       "      <td>2</td>\n",
       "      <td>1</td>\n",
       "      <td>3</td>\n",
       "      <td>2.2</td>\n",
       "      <td>35619.0</td>\n",
       "      <td>1</td>\n",
       "      <td>1</td>\n",
       "      <td>3</td>\n",
       "      <td>3</td>\n",
       "    </tr>\n",
       "    <tr>\n",
       "      <th>3</th>\n",
       "      <td>2003</td>\n",
       "      <td>3</td>\n",
       "      <td>4</td>\n",
       "      <td>4</td>\n",
       "      <td>1</td>\n",
       "      <td>1</td>\n",
       "      <td>4</td>\n",
       "      <td>2.8</td>\n",
       "      <td>131301.0</td>\n",
       "      <td>2</td>\n",
       "      <td>2</td>\n",
       "      <td>4</td>\n",
       "      <td>4</td>\n",
       "    </tr>\n",
       "    <tr>\n",
       "      <th>4</th>\n",
       "      <td>2007</td>\n",
       "      <td>1</td>\n",
       "      <td>2</td>\n",
       "      <td>1</td>\n",
       "      <td>2</td>\n",
       "      <td>1</td>\n",
       "      <td>1</td>\n",
       "      <td>2.0</td>\n",
       "      <td>127709.0</td>\n",
       "      <td>1</td>\n",
       "      <td>1</td>\n",
       "      <td>5</td>\n",
       "      <td>5</td>\n",
       "    </tr>\n",
       "  </tbody>\n",
       "</table>\n",
       "</div>"
      ],
      "text/plain": [
       "   year  make  model  trim  body  transmission  state  condition  odometer  \\\n",
       "0  2011     1      1     1     1             1      1        4.2  111041.0   \n",
       "1  2014     1      2     2     2             1      2        3.5   31034.0   \n",
       "2  2012     2      3     3     2             1      3        2.2   35619.0   \n",
       "3  2003     3      4     4     1             1      4        2.8  131301.0   \n",
       "4  2007     1      2     1     2             1      1        2.0  127709.0   \n",
       "\n",
       "   color  interior  seller  saledate  \n",
       "0      1         1       1         1  \n",
       "1      1         1       2         2  \n",
       "2      1         1       3         3  \n",
       "3      2         2       4         4  \n",
       "4      1         1       5         5  "
      ]
     },
     "metadata": {},
     "output_type": "display_data"
    },
    {
     "data": {
      "text/html": [
       "<div>\n",
       "<style scoped>\n",
       "    .dataframe tbody tr th:only-of-type {\n",
       "        vertical-align: middle;\n",
       "    }\n",
       "\n",
       "    .dataframe tbody tr th {\n",
       "        vertical-align: top;\n",
       "    }\n",
       "\n",
       "    .dataframe thead th {\n",
       "        text-align: right;\n",
       "    }\n",
       "</style>\n",
       "<table border=\"1\" class=\"dataframe\">\n",
       "  <thead>\n",
       "    <tr style=\"text-align: right;\">\n",
       "      <th></th>\n",
       "      <th>year</th>\n",
       "      <th>make</th>\n",
       "      <th>model</th>\n",
       "      <th>trim</th>\n",
       "      <th>body</th>\n",
       "      <th>transmission</th>\n",
       "      <th>state</th>\n",
       "      <th>condition</th>\n",
       "      <th>odometer</th>\n",
       "      <th>color</th>\n",
       "      <th>interior</th>\n",
       "      <th>seller</th>\n",
       "      <th>saledate</th>\n",
       "    </tr>\n",
       "  </thead>\n",
       "  <tbody>\n",
       "    <tr>\n",
       "      <th>0</th>\n",
       "      <td>2005</td>\n",
       "      <td>11.0</td>\n",
       "      <td>19.0</td>\n",
       "      <td>4.0</td>\n",
       "      <td>2</td>\n",
       "      <td>1</td>\n",
       "      <td>9</td>\n",
       "      <td>2.7</td>\n",
       "      <td>116970.0</td>\n",
       "      <td>3</td>\n",
       "      <td>1</td>\n",
       "      <td>1549.0</td>\n",
       "      <td>271.0</td>\n",
       "    </tr>\n",
       "    <tr>\n",
       "      <th>1</th>\n",
       "      <td>2014</td>\n",
       "      <td>12.0</td>\n",
       "      <td>136.0</td>\n",
       "      <td>102.0</td>\n",
       "      <td>20</td>\n",
       "      <td>1</td>\n",
       "      <td>14</td>\n",
       "      <td>4.4</td>\n",
       "      <td>6286.0</td>\n",
       "      <td>5</td>\n",
       "      <td>3</td>\n",
       "      <td>96.0</td>\n",
       "      <td>153.0</td>\n",
       "    </tr>\n",
       "    <tr>\n",
       "      <th>2</th>\n",
       "      <td>2013</td>\n",
       "      <td>2.0</td>\n",
       "      <td>14.0</td>\n",
       "      <td>33.0</td>\n",
       "      <td>1</td>\n",
       "      <td>1</td>\n",
       "      <td>8</td>\n",
       "      <td>4.6</td>\n",
       "      <td>11831.0</td>\n",
       "      <td>6</td>\n",
       "      <td>1</td>\n",
       "      <td>3.0</td>\n",
       "      <td>75.0</td>\n",
       "    </tr>\n",
       "    <tr>\n",
       "      <th>3</th>\n",
       "      <td>2013</td>\n",
       "      <td>8.0</td>\n",
       "      <td>50.0</td>\n",
       "      <td>75.0</td>\n",
       "      <td>2</td>\n",
       "      <td>1</td>\n",
       "      <td>7</td>\n",
       "      <td>2.3</td>\n",
       "      <td>57105.0</td>\n",
       "      <td>3</td>\n",
       "      <td>1</td>\n",
       "      <td>1423.0</td>\n",
       "      <td>1585.0</td>\n",
       "    </tr>\n",
       "    <tr>\n",
       "      <th>4</th>\n",
       "      <td>2013</td>\n",
       "      <td>2.0</td>\n",
       "      <td>296.0</td>\n",
       "      <td>30.0</td>\n",
       "      <td>10</td>\n",
       "      <td>1</td>\n",
       "      <td>12</td>\n",
       "      <td>2.9</td>\n",
       "      <td>31083.0</td>\n",
       "      <td>1</td>\n",
       "      <td>1</td>\n",
       "      <td>282.0</td>\n",
       "      <td>105.0</td>\n",
       "    </tr>\n",
       "  </tbody>\n",
       "</table>\n",
       "</div>"
      ],
      "text/plain": [
       "   year  make  model   trim  body  transmission  state  condition  odometer  \\\n",
       "0  2005  11.0   19.0    4.0     2             1      9        2.7  116970.0   \n",
       "1  2014  12.0  136.0  102.0    20             1     14        4.4    6286.0   \n",
       "2  2013   2.0   14.0   33.0     1             1      8        4.6   11831.0   \n",
       "3  2013   8.0   50.0   75.0     2             1      7        2.3   57105.0   \n",
       "4  2013   2.0  296.0   30.0    10             1     12        2.9   31083.0   \n",
       "\n",
       "   color  interior  seller  saledate  \n",
       "0      3         1  1549.0     271.0  \n",
       "1      5         3    96.0     153.0  \n",
       "2      6         1     3.0      75.0  \n",
       "3      3         1  1423.0    1585.0  \n",
       "4      1         1   282.0     105.0  "
      ]
     },
     "execution_count": 83,
     "metadata": {},
     "output_type": "execute_result"
    }
   ],
   "source": [
    "object_columns.remove('vin') #Уберем из списка категориальных признаков колонку 'vin' для дальнейшей работы\n",
    "\n",
    "data_test_OE = data_test.drop(['vin'], axis=1) #подготовим тестовую для кодировки\n",
    "\n",
    "encoder = ce.OrdinalEncoder(cols=object_columns)\n",
    "\n",
    "features_train_OE = encoder.fit_transform(features_train)\n",
    "\n",
    "data_test_OE = encoder.transform(data_test_OE)\n",
    "\n",
    "display(features_train_OE.head())\n",
    "data_test_OE.head()"
   ]
  },
  {
   "cell_type": "code",
   "execution_count": 84,
   "metadata": {
    "tags": []
   },
   "outputs": [],
   "source": [
    "#отмасштабируем количественные признаки\n",
    "scaler = StandardScaler()\n",
    "scaler.fit(features_train_OE.select_dtypes(\"number\"))\n",
    "features_train_scaled = scaler.transform(features_train_OE.select_dtypes(\"number\"))\n",
    "data_test_scaled = scaler.transform(data_test_OE.select_dtypes(\"number\"))\n",
    "\n",
    "features_train_scaled_df = pd.DataFrame(features_train_scaled, index=features_train_OE.index, columns=features_train_OE.columns)\n",
    "data_test_scaled_df = pd.DataFrame(data_test_scaled, index=data_test_OE.index, columns=data_test_OE.columns)"
   ]
  },
  {
   "cell_type": "markdown",
   "metadata": {},
   "source": [
    "#### Выбор модели для обучения"
   ]
  },
  {
   "cell_type": "markdown",
   "metadata": {},
   "source": [
    "Поскольку задачей исследования является разработка модели по определению стоимости автомобиля, мы будем использовать модель регрессии, которая способна определить взаимосвязи в данных и предсказать стоимость с максимально возможной точностью. Наиболее оптимальным решением является применение модели с бустингом. Идея бустинга заключается в итеративном процессе последовательного построения частных моделей. Каждая новая модель обучается с использованием информации об ошибках, сделанных на предыдущем этапе, а результирующая функция представляет собой линейную комбинацию всего ансамбля моделей с учетом минимизации любой штрафной функции.\n",
    "\n",
    "Таким образом, в проекте будет использоваться XGBRegressor и метрика оценки MAPE, которая показывает насколько точно модель предсказывает цену, процент отклонения модели от истины."
   ]
  },
  {
   "cell_type": "markdown",
   "metadata": {},
   "source": [
    "Для начала обучим базу и посмотрим, какое значение MAPE получится. Если оно нас не устроит, продолжим оптимизацию и воспользуемся optuna для поиска наилучших параметров модели."
   ]
  },
  {
   "cell_type": "code",
   "execution_count": 85,
   "metadata": {},
   "outputs": [],
   "source": [
    "#для удобства создадим функцию для подсчета метрики MAPE и сделаем кастомный скорер\n",
    "def MAPE(y_true, y_pred): \n",
    "    return 100*(np.sum(np.abs(np.subtract(y_true,y_pred)))/np.sum(y_pred))\n",
    "\n",
    "mape_scorer = make_scorer(MAPE)"
   ]
  },
  {
   "cell_type": "code",
   "execution_count": 86,
   "metadata": {},
   "outputs": [
    {
     "name": "stdout",
     "output_type": "stream",
     "text": [
      "Mean MAPE: 11.968 (0.111)\n"
     ]
    }
   ],
   "source": [
    "model = XGBRegressor()\n",
    "cv = RepeatedKFold(n_splits=10, n_repeats=3, random_state=12345)\n",
    "scores = cross_val_score(model, features_train_scaled_df, target_train, scoring=mape_scorer, cv=cv, n_jobs=-1)\n",
    "scores = absolute(scores)\n",
    "print('Mean MAPE: %.3f (%.3f)' % (scores.mean(), scores.std()) )"
   ]
  },
  {
   "cell_type": "markdown",
   "metadata": {},
   "source": [
    "#### Отбор признаков для улучшения модели"
   ]
  },
  {
   "cell_type": "code",
   "execution_count": 87,
   "metadata": {},
   "outputs": [
    {
     "data": {
      "text/html": [
       "<style>#sk-container-id-1 {color: black;background-color: white;}#sk-container-id-1 pre{padding: 0;}#sk-container-id-1 div.sk-toggleable {background-color: white;}#sk-container-id-1 label.sk-toggleable__label {cursor: pointer;display: block;width: 100%;margin-bottom: 0;padding: 0.3em;box-sizing: border-box;text-align: center;}#sk-container-id-1 label.sk-toggleable__label-arrow:before {content: \"▸\";float: left;margin-right: 0.25em;color: #696969;}#sk-container-id-1 label.sk-toggleable__label-arrow:hover:before {color: black;}#sk-container-id-1 div.sk-estimator:hover label.sk-toggleable__label-arrow:before {color: black;}#sk-container-id-1 div.sk-toggleable__content {max-height: 0;max-width: 0;overflow: hidden;text-align: left;background-color: #f0f8ff;}#sk-container-id-1 div.sk-toggleable__content pre {margin: 0.2em;color: black;border-radius: 0.25em;background-color: #f0f8ff;}#sk-container-id-1 input.sk-toggleable__control:checked~div.sk-toggleable__content {max-height: 200px;max-width: 100%;overflow: auto;}#sk-container-id-1 input.sk-toggleable__control:checked~label.sk-toggleable__label-arrow:before {content: \"▾\";}#sk-container-id-1 div.sk-estimator input.sk-toggleable__control:checked~label.sk-toggleable__label {background-color: #d4ebff;}#sk-container-id-1 div.sk-label input.sk-toggleable__control:checked~label.sk-toggleable__label {background-color: #d4ebff;}#sk-container-id-1 input.sk-hidden--visually {border: 0;clip: rect(1px 1px 1px 1px);clip: rect(1px, 1px, 1px, 1px);height: 1px;margin: -1px;overflow: hidden;padding: 0;position: absolute;width: 1px;}#sk-container-id-1 div.sk-estimator {font-family: monospace;background-color: #f0f8ff;border: 1px dotted black;border-radius: 0.25em;box-sizing: border-box;margin-bottom: 0.5em;}#sk-container-id-1 div.sk-estimator:hover {background-color: #d4ebff;}#sk-container-id-1 div.sk-parallel-item::after {content: \"\";width: 100%;border-bottom: 1px solid gray;flex-grow: 1;}#sk-container-id-1 div.sk-label:hover label.sk-toggleable__label {background-color: #d4ebff;}#sk-container-id-1 div.sk-serial::before {content: \"\";position: absolute;border-left: 1px solid gray;box-sizing: border-box;top: 0;bottom: 0;left: 50%;z-index: 0;}#sk-container-id-1 div.sk-serial {display: flex;flex-direction: column;align-items: center;background-color: white;padding-right: 0.2em;padding-left: 0.2em;position: relative;}#sk-container-id-1 div.sk-item {position: relative;z-index: 1;}#sk-container-id-1 div.sk-parallel {display: flex;align-items: stretch;justify-content: center;background-color: white;position: relative;}#sk-container-id-1 div.sk-item::before, #sk-container-id-1 div.sk-parallel-item::before {content: \"\";position: absolute;border-left: 1px solid gray;box-sizing: border-box;top: 0;bottom: 0;left: 50%;z-index: -1;}#sk-container-id-1 div.sk-parallel-item {display: flex;flex-direction: column;z-index: 1;position: relative;background-color: white;}#sk-container-id-1 div.sk-parallel-item:first-child::after {align-self: flex-end;width: 50%;}#sk-container-id-1 div.sk-parallel-item:last-child::after {align-self: flex-start;width: 50%;}#sk-container-id-1 div.sk-parallel-item:only-child::after {width: 0;}#sk-container-id-1 div.sk-dashed-wrapped {border: 1px dashed gray;margin: 0 0.4em 0.5em 0.4em;box-sizing: border-box;padding-bottom: 0.4em;background-color: white;}#sk-container-id-1 div.sk-label label {font-family: monospace;font-weight: bold;display: inline-block;line-height: 1.2em;}#sk-container-id-1 div.sk-label-container {text-align: center;}#sk-container-id-1 div.sk-container {/* jupyter's `normalize.less` sets `[hidden] { display: none; }` but bootstrap.min.css set `[hidden] { display: none !important; }` so we also need the `!important` here to be able to override the default hidden behavior on the sphinx rendered scikit-learn.org. See: https://github.com/scikit-learn/scikit-learn/issues/21755 */display: inline-block !important;position: relative;}#sk-container-id-1 div.sk-text-repr-fallback {display: none;}</style><div id=\"sk-container-id-1\" class=\"sk-top-container\"><div class=\"sk-text-repr-fallback\"><pre>XGBRegressor(base_score=None, booster=None, callbacks=None,\n",
       "             colsample_bylevel=None, colsample_bynode=None,\n",
       "             colsample_bytree=None, early_stopping_rounds=None,\n",
       "             enable_categorical=False, eval_metric=None, feature_types=None,\n",
       "             gamma=None, gpu_id=None, grow_policy=None, importance_type=None,\n",
       "             interaction_constraints=None, learning_rate=None, max_bin=None,\n",
       "             max_cat_threshold=None, max_cat_to_onehot=None,\n",
       "             max_delta_step=None, max_depth=None, max_leaves=None,\n",
       "             min_child_weight=None, missing=nan, monotone_constraints=None,\n",
       "             n_estimators=100, n_jobs=None, num_parallel_tree=None,\n",
       "             predictor=None, random_state=None, ...)</pre><b>In a Jupyter environment, please rerun this cell to show the HTML representation or trust the notebook. <br />On GitHub, the HTML representation is unable to render, please try loading this page with nbviewer.org.</b></div><div class=\"sk-container\" hidden><div class=\"sk-item\"><div class=\"sk-estimator sk-toggleable\"><input class=\"sk-toggleable__control sk-hidden--visually\" id=\"sk-estimator-id-1\" type=\"checkbox\" checked><label for=\"sk-estimator-id-1\" class=\"sk-toggleable__label sk-toggleable__label-arrow\">XGBRegressor</label><div class=\"sk-toggleable__content\"><pre>XGBRegressor(base_score=None, booster=None, callbacks=None,\n",
       "             colsample_bylevel=None, colsample_bynode=None,\n",
       "             colsample_bytree=None, early_stopping_rounds=None,\n",
       "             enable_categorical=False, eval_metric=None, feature_types=None,\n",
       "             gamma=None, gpu_id=None, grow_policy=None, importance_type=None,\n",
       "             interaction_constraints=None, learning_rate=None, max_bin=None,\n",
       "             max_cat_threshold=None, max_cat_to_onehot=None,\n",
       "             max_delta_step=None, max_depth=None, max_leaves=None,\n",
       "             min_child_weight=None, missing=nan, monotone_constraints=None,\n",
       "             n_estimators=100, n_jobs=None, num_parallel_tree=None,\n",
       "             predictor=None, random_state=None, ...)</pre></div></div></div></div></div>"
      ],
      "text/plain": [
       "XGBRegressor(base_score=None, booster=None, callbacks=None,\n",
       "             colsample_bylevel=None, colsample_bynode=None,\n",
       "             colsample_bytree=None, early_stopping_rounds=None,\n",
       "             enable_categorical=False, eval_metric=None, feature_types=None,\n",
       "             gamma=None, gpu_id=None, grow_policy=None, importance_type=None,\n",
       "             interaction_constraints=None, learning_rate=None, max_bin=None,\n",
       "             max_cat_threshold=None, max_cat_to_onehot=None,\n",
       "             max_delta_step=None, max_depth=None, max_leaves=None,\n",
       "             min_child_weight=None, missing=nan, monotone_constraints=None,\n",
       "             n_estimators=100, n_jobs=None, num_parallel_tree=None,\n",
       "             predictor=None, random_state=None, ...)"
      ]
     },
     "execution_count": 87,
     "metadata": {},
     "output_type": "execute_result"
    }
   ],
   "source": [
    "model.fit(features_train_scaled_df, target_train)"
   ]
  },
  {
   "cell_type": "markdown",
   "metadata": {},
   "source": [
    "Теперь посмотрим на важность признаков. Если мы увидим неважные признаки, попробуем убрать их при обучении модели, чтобы не перегружать процесс обучения."
   ]
  },
  {
   "cell_type": "code",
   "execution_count": 88,
   "metadata": {},
   "outputs": [
    {
     "data": {
      "image/png": "[encoded data removed]",
      "text/plain": [
       "<Figure size 640x480 with 1 Axes>"
      ]
     },
     "metadata": {},
     "output_type": "display_data"
    }
   ],
   "source": [
    "sorted_idx = model.feature_importances_.argsort()\n",
    "plt.barh(features_train_scaled_df.columns[sorted_idx], model.feature_importances_[sorted_idx]);\n",
    "plt.xlabel(\"Xgboost Feature Importance\");"
   ]
  },
  {
   "cell_type": "code",
   "execution_count": 89,
   "metadata": {},
   "outputs": [],
   "source": [
    "#отберем наиболее важные, чтобы затем обучить модель и посмотреть как изменится MAPE\n",
    "features_train_selected = features_train_scaled_df.drop(['interior', 'seller', 'color', 'transmission', 'state', 'saledate'], axis=1)"
   ]
  },
  {
   "cell_type": "code",
   "execution_count": 90,
   "metadata": {},
   "outputs": [
    {
     "name": "stdout",
     "output_type": "stream",
     "text": [
      "11.483962743713855\n"
     ]
    }
   ],
   "source": [
    "model.fit(features_train_selected, target_train)\n",
    "print(cross_val_score(model, features_train_selected, target_train, scoring=mape_scorer, cv=5).mean())"
   ]
  },
  {
   "cell_type": "markdown",
   "metadata": {},
   "source": [
    "Метрика незначительно, но улучшилась. Попробуем подобрать гиперпараметры для наилучшего результата."
   ]
  },
  {
   "cell_type": "markdown",
   "metadata": {},
   "source": [
    "#### Подбор гиперпараметров модели"
   ]
  },
  {
   "cell_type": "markdown",
   "metadata": {},
   "source": [
    "Для подбора гиперпараметров воспользуемся optuna. Это мощный и достаточно быстрый инструмент для поиска наиболее эффективных гиперпараметров для модели."
   ]
  },
  {
   "cell_type": "code",
   "execution_count": null,
   "metadata": {},
   "outputs": [
    {
     "name": "stderr",
     "output_type": "stream",
     "text": [
      "\u001b[32m[I 2023-04-02 04:38:44,075]\u001b[0m A new study created in memory with name: no-name-9fc7afe5-6ac6-4899-a385-190dc1c0a52e\u001b[0m\n",
      "\u001b[32m[I 2023-04-02 04:40:30,864]\u001b[0m Trial 0 finished with value: 10.320963668121843 and parameters: {'max_depth': 14, 'learning_rate': 0.24297838200134933, 'n_estimators': 706, 'min_child_weight': 8, 'gamma': 0.07976833410036807, 'subsample': 0.6184833174760652, 'colsample_bytree': 0.6168014799088356, 'reg_alpha': 0.9509542334672536, 'reg_lambda': 0.24900713142082387, 'random_state': 22, 'tree_method': 'hist', 'predictor': 'cpu_predictor', 'booster': 'gbtree'}. Best is trial 0 with value: 10.320963668121843.\u001b[0m\n",
      "\u001b[32m[I 2023-04-02 04:40:57,014]\u001b[0m Trial 1 finished with value: 13.844449202269303 and parameters: {'max_depth': 16, 'learning_rate': 0.3388854592693095, 'n_estimators': 114, 'min_child_weight': 2, 'gamma': 0.6228015485069474, 'subsample': 0.4334108044856979, 'colsample_bytree': 0.3095539857314509, 'reg_alpha': 0.74525348312883, 'reg_lambda': 0.961907512080848, 'random_state': 612, 'tree_method': 'hist', 'predictor': 'auto', 'booster': 'gbtree'}. Best is trial 0 with value: 10.320963668121843.\u001b[0m\n",
      "\u001b[32m[I 2023-04-02 04:41:36,204]\u001b[0m Trial 2 finished with value: 9.795592277526856 and parameters: {'max_depth': 10, 'learning_rate': 0.24317533045879644, 'n_estimators': 483, 'min_child_weight': 2, 'gamma': 0.7766019286006556, 'subsample': 0.6753762466665071, 'colsample_bytree': 0.4248382316477388, 'reg_alpha': 0.5148976119802263, 'reg_lambda': 0.7870548002330199, 'random_state': 839, 'tree_method': 'gpu_hist', 'predictor': 'auto', 'booster': 'gbtree'}. Best is trial 2 with value: 9.795592277526856.\u001b[0m\n"
     ]
    }
   ],
   "source": [
    "def model_objective(trial):\n",
    "    param = {\n",
    "        'max_depth': trial.suggest_int('max_depth', 1, 20),\n",
    "        'learning_rate': trial.suggest_float('learning_rate', 0.01, 1.0),\n",
    "        'n_estimators': trial.suggest_int('n_estimators', 50, 1000),\n",
    "        'min_child_weight': trial.suggest_int('min_child_weight', 1, 10),\n",
    "        'gamma': trial.suggest_float('gamma', 0.01, 1.0),\n",
    "        'subsample': trial.suggest_float('subsample', 0.1, 1.0),\n",
    "        'colsample_bytree': trial.suggest_float('colsample_bytree', 0.01, 1.0),\n",
    "        'reg_alpha': trial.suggest_float('reg_alpha', 0.01, 1.0),\n",
    "        'reg_lambda': trial.suggest_float('reg_lambda', 0.01, 1.0),\n",
    "        'random_state': trial.suggest_int('random_state', 1, 1000),\n",
    "        'tree_method': trial.suggest_categorical('tree_method', {'gpu_hist', 'hist'}),\n",
    "        'predictor': trial.suggest_categorical('predictor', {'auto', 'cpu_predictor', 'gpu_predictor'}),\n",
    "        'booster': trial.suggest_categorical('booster', {'gbtree'})\n",
    "    }\n",
    "\n",
    "    model_1 = XGBRegressor(**param)\n",
    "\n",
    "    model_1.fit(features_train_scaled_df, target_train)    \n",
    "    mape = cross_val_score(model_1, features_train_scaled_df, target_train, scoring=mape_scorer, n_jobs=-1, cv=5).mean()\n",
    "    \n",
    "    return mape\n",
    "    \n",
    "#Вызовем optuna и установим гиперпараметры\n",
    "model_study = optuna.create_study(direction='minimize')\n",
    "model_study.optimize(model_objective, n_trials=60)\n",
    "\n",
    "#Запомним лучшую модель с лучшими гиперпараметрами\n",
    "best_model = XGBRegressor(**model_study.best_params)\n",
    "trial = model_study.best_trial\n",
    "\n",
    "#Для информации - визуализируем вклад каждого гиперпараметра в обучение модели\n",
    "fig = optuna.visualization.plot_param_importances(model_study)\n",
    "fig.show()\n",
    "\n",
    "print(\"Лучшие гиперпараметры модели: {}\".format(trial.params))\n",
    "print(\"MAPE лучшей модели: {}\".format(trial.value))"
   ]
  },
  {
   "cell_type": "markdown",
   "metadata": {},
   "source": [
    "Cохраним модель с самым лучшим результатом MAPE, который удалось достичь в процессе экспериментов - 8.06 на полной выборке, без уменьшения выборки после определения features importance. Как показали неоднократные попытки по уменьшению выборки, этот механизм не улучшает качество модели, а наоборот, даже немного ухудшает."
   ]
  },
  {
   "cell_type": "code",
   "execution_count": null,
   "metadata": {},
   "outputs": [],
   "source": [
    "param = {'max_depth': 14, 'learning_rate': 0.02848378680776663, 'n_estimators': 944, 'min_child_weight': 5, 'gamma': 0.9664189910790479, 'subsample': 0.7153380111541001, 'colsample_bytree': 0.944790050824031, 'reg_alpha': 0.1778208192084195, 'reg_lambda': 0.15544722186756976, 'random_state': 15, 'tree_method': 'gpu_hist', 'predictor': 'cpu_predictor', 'booster': 'gbtree'}\n",
    "#param = {'max_depth': 10, 'learning_rate': 0.07754310023535682, 'n_estimators': 673, 'min_child_weight': 1, 'gamma': 0.20822850966521453, 'subsample': 0.7346414515941233, 'colsample_bytree': 0.8337303347995324, 'reg_alpha': 0.755054877808364, 'reg_lambda': 0.5876361475873725, 'random_state': 716, 'tree_method': 'gpu_hist', 'predictor': 'auto', 'booster': 'gbtree'}\n",
    "best_model = XGBRegressor(**param)"
   ]
  },
  {
   "cell_type": "markdown",
   "metadata": {},
   "source": [
    "#### Результаты работы модели"
   ]
  },
  {
   "cell_type": "code",
   "execution_count": null,
   "metadata": {},
   "outputs": [],
   "source": [
    "best_model.fit(features_train_scaled_df, target_train)\n",
    "#features_test_selected = data_test_scaled_df.drop(['interior', 'seller', 'color', 'transmission', 'state', 'saledate'], axis=1)\n",
    "predictions = best_model.predict(data_test_scaled_df)"
   ]
  },
  {
   "cell_type": "code",
   "execution_count": null,
   "metadata": {},
   "outputs": [],
   "source": [
    "#сохраним результат для подгрузки на kaggle\n",
    "sample_submission = pd.concat([pd.DataFrame(data_test['vin']), pd.DataFrame(predictions)], axis=1)\n",
    "sample_submission = sample_submission.rename(columns={0: 'sellingprice'})\n",
    "sample_submission.to_csv('sample_submission_xgb_7.csv', index=False)"
   ]
  },
  {
   "cell_type": "markdown",
   "metadata": {},
   "source": [
    "#### Общий вывод"
   ]
  },
  {
   "cell_type": "markdown",
   "metadata": {},
   "source": [
    "Мы видим, что для предсказания цены автомобиля на вторичном рынке важны такие параметры как пробег, год выпуска авто, марка, тип кузова, а также состояние автомобиля. Для модели XGBRegressor данные признаки оказались наиболее существенными.\n",
    "\n",
    "Такие признаки как салон автомобиля, его цвет, коробка передач, продавец авто, штат и дата продажи оказались второстепенными, что можно считать логичным.\n",
    "\n",
    "Тем не менее, при попытке сократить обучающающую выборку, руководствуясь features_importance, результаты MAPE на тестовой выборке после подбора гиперпараметров не поднимались выше 15.7. На данный момент удалось добиться наилучшего результата по предсказанию стоимости автомобиля, и сейчас этот результат MAPE составляет 14,77 в таблице соревнования на kaggle."
   ]
  }
 ],
 "metadata": {
  "kernelspec": {
   "display_name": "Python 3 (ipykernel)",
   "language": "python",
   "name": "python3"
  },
  "language_info": {
   "codemirror_mode": {
    "name": "ipython",
    "version": 3
   },
   "file_extension": ".py",
   "mimetype": "text/x-python",
   "name": "python",
   "nbconvert_exporter": "python",
   "pygments_lexer": "ipython3",
   "version": "3.10.6"
  }
 },
 "nbformat": 4,
 "nbformat_minor": 4
}
